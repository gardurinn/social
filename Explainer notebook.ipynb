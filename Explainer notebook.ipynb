{
 "cells": [
  {
   "cell_type": "code",
   "execution_count": 1,
   "metadata": {
    "collapsed": true
   },
   "outputs": [],
   "source": [
    "# Import package \n",
    "import pandas as pd\n",
    "import matplotlib.pyplot as plt\n",
    "import numpy as np\n",
    "import scipy\n",
    "from sklearn import linear_model, preprocessing\n",
    "from sklearn.tree import DecisionTreeClassifier, export_graphviz\n",
    "# from sklearn.model_selection import train_test_split\n",
    "# from sklearn.cross_validation import train_test_split\n",
    "from sklearn.metrics import accuracy_score\n",
    "from sklearn.cluster import KMeans\n",
    "# For KNN\n",
    "import pylab as pl\n",
    "from sklearn import neighbors, datasets\n",
    "import random"
   ]
  },
  {
   "cell_type": "markdown",
   "metadata": {},
   "source": [
    "# Explainer notebook \n",
    "## Assignment B \n",
    "This is the explainer notebook for assignment B in Social Data and Visualization . \n",
    "\n",
    "## 1. Motivation \n",
    "### What is your dataset?\n",
    "Our dataset is from the NYC Open Data. It is from the 3-1-1 service requests in New York city. The 3-1-1 service is a special telephone number supported in many communities in the United States. The requests are considerd non-urgent community concerns, as apposed to the well known 9-1-1 number that is an emergency service. \n",
    "\n",
    "We looked at the categories of the complaint types and noticed that the complaints are listed with the exact location. The categories are 172 types and we decided to take a better look at the second largest category, residental noise complaints. These residental noise complaints are split up to four categories and will be explored further.\n",
    "\n",
    "We then want to compare the noise complaints to another dataset that shows the age of residents in each borough. \n",
    "### Why did you choose this/these paricual dataset?\n",
    "New York is often referred to as the City that never sleeps. Inspite of that, noise continous to be the number one quality of life issue. We would like to see if we can help solve that problem. This will be done by answering the following questions:\n",
    "\n",
    "**What is the quietest place to live in NYC? And how is it connected to the number of residents and their age?** \n",
    "\n",
    "We want to see if there is any connection between the age of residents and the number of noise complaints. Then we want to look at the locations of the complaints and see if there are any patterns worth the recognition. This research might help the NYC police department to locate were the different types of complaints are being filed. This could then result in a possible reduction of the the number of noise complaints and help solve the number one quality of life problem in NYC. \n",
    "\n",
    "### What was your goal for the end user's experience?\n",
    "We want the user to be able understand the dataset we chose and the process of how it was done. Then we want the user to be able to visualize the result from the machine learning method.  The visualization should be interactive so they can enjoy the experience of comparing the data themselves and explore it better. \n",
    "\n",
    "## 2. Basic stats. Let's understand the dataset better \n",
    "### Write about you choise in data cleaning and preprocessing\n",
    "As we stated in the previous part, the dataset has around 172 complaints types. The steps and choices were the following: \n",
    "* Start by looking at all 172 complaint types. Visualized with a bar chart.  \n",
    "* We made a raw scatter pot of the longtitude and latitudes. There we saw that some complaints were not listed in NY so we filtered them out. \n",
    "* Chose the second largest complaint type category; Noise – Residential\n",
    "* Visualized the number total number of complaints in each Borough and total number of noise complaints in each Borough. \n",
    "* “Noise – Residential” has four different Descriptors \n",
    " * Banging/Pounding\n",
    " * Loud Music/Party\n",
    " * Loud Talking\n",
    " * Loud Television\n",
    "* Then we look at the age data and make a bar chart of the number of residents per Borough. \n",
    "* To get a better idea we made a stacked bar plot of the age data. \n",
    "* Finally we make dataset for a scatter plot were we can visualize all the following features at the same time:\n",
    "  * Total number of residents\n",
    "  * Total number of complaints \n",
    "  * Total number of noise complaints \n",
    "  \n",
    "** Note that these steps are then taken in the Notebook here below**\n",
    "\n",
    "### Write a short section that discuesses the dataset stats. \n",
    "Let's take a better look at our datasets. We have two datasets. \n",
    "* 311 incident for the year 2015\n",
    "* Age distribution in New York\n",
    "\n",
    "The total number of complaints after filtering out the ones not in NYC are 2,047,474 and the total number of Residental noise complaints are 205,826. \n",
    "That makes it approximately 10,1% of the total complaints in 2015. \n",
    "\n",
    "Here is a list of how the data changed after we had filtered the data and preprocessed it\n",
    "* From 1.5 MB to 21,257 KB\n",
    "* From 2,047,474 rows to 205,826 rows\n",
    "* From 53 variables to 6 variables\n",
    "\n",
    "The percentage of noise complaints in each borough are then listed below:\n",
    "* Bronx: 23,9% \n",
    "* Brooklyn 30.4% \n",
    "* Manhattan 22,7%\n",
    "* Queens 20,0%\n",
    "* Staten Island 3,0%\n",
    "\n",
    "And the number of percentage of residents in each borough are as follows:\n",
    "\n",
    "* Bronx: 16,9% \n",
    "* Brooklyn 31,0% \n",
    "* Manhattan 19,2%\n",
    "* Queens 27,3%\n",
    "* Staten Island 5,7%\n",
    "\n",
    "Finally we see the weighted average of the age in each borough:\n",
    "\n",
    "* Bronx: 35,0 \n",
    "* Brooklyn 36,3 \n",
    "* Manhattan 39,1\n",
    "* Queens 38,1\n",
    "* Staten Island 38,6\n"
   ]
  },
  {
   "cell_type": "code",
   "execution_count": 2,
   "metadata": {
    "collapsed": false
   },
   "outputs": [
    {
     "name": "stderr",
     "output_type": "stream",
     "text": [
      "C:\\Users\\s161280\\AppData\\Local\\Continuum\\Anaconda2\\lib\\site-packages\\IPython\\core\\interactiveshell.py:2717: DtypeWarning: Columns (8,17,40,41,42,43,44,45,46,47,48,49) have mixed types. Specify dtype option on import or set low_memory=False.\n",
      "  interactivity=interactivity, compiler=compiler, result=result)\n"
     ]
    },
    {
     "data": {
      "text/html": [
       "<div>\n",
       "<table border=\"1\" class=\"dataframe\">\n",
       "  <thead>\n",
       "    <tr style=\"text-align: right;\">\n",
       "      <th></th>\n",
       "      <th>Unique Key</th>\n",
       "      <th>Created Date</th>\n",
       "      <th>Closed Date</th>\n",
       "      <th>Agency</th>\n",
       "      <th>Agency Name</th>\n",
       "      <th>Complaint Type</th>\n",
       "      <th>Descriptor</th>\n",
       "      <th>Location Type</th>\n",
       "      <th>Incident Zip</th>\n",
       "      <th>Incident Address</th>\n",
       "      <th>...</th>\n",
       "      <th>Bridge Highway Name</th>\n",
       "      <th>Bridge Highway Direction</th>\n",
       "      <th>Road Ramp</th>\n",
       "      <th>Bridge Highway Segment</th>\n",
       "      <th>Garage Lot Name</th>\n",
       "      <th>Ferry Direction</th>\n",
       "      <th>Ferry Terminal Name</th>\n",
       "      <th>Latitude</th>\n",
       "      <th>Longitude</th>\n",
       "      <th>Location</th>\n",
       "    </tr>\n",
       "  </thead>\n",
       "  <tbody>\n",
       "    <tr>\n",
       "      <th>0</th>\n",
       "      <td>31015465</td>\n",
       "      <td>07/06/2015 10:58:27 AM</td>\n",
       "      <td>07/22/2015 01:07:20 AM</td>\n",
       "      <td>DCA</td>\n",
       "      <td>Department of Consumer Affairs</td>\n",
       "      <td>Consumer Complaint</td>\n",
       "      <td>Demand for Cash</td>\n",
       "      <td>NaN</td>\n",
       "      <td>11360</td>\n",
       "      <td>27-16 203 STREET</td>\n",
       "      <td>...</td>\n",
       "      <td>NaN</td>\n",
       "      <td>NaN</td>\n",
       "      <td>NaN</td>\n",
       "      <td>NaN</td>\n",
       "      <td>NaN</td>\n",
       "      <td>NaN</td>\n",
       "      <td>NaN</td>\n",
       "      <td>40.773540</td>\n",
       "      <td>-73.788237</td>\n",
       "      <td>(40.773539552542, -73.78823697228408)</td>\n",
       "    </tr>\n",
       "    <tr>\n",
       "      <th>1</th>\n",
       "      <td>30997660</td>\n",
       "      <td>07/03/2015 01:26:29 PM</td>\n",
       "      <td>07/03/2015 02:08:20 PM</td>\n",
       "      <td>NYPD</td>\n",
       "      <td>New York City Police Department</td>\n",
       "      <td>Vending</td>\n",
       "      <td>In Prohibited Area</td>\n",
       "      <td>Residential Building/House</td>\n",
       "      <td>10019</td>\n",
       "      <td>200 CENTRAL PARK SOUTH</td>\n",
       "      <td>...</td>\n",
       "      <td>NaN</td>\n",
       "      <td>NaN</td>\n",
       "      <td>NaN</td>\n",
       "      <td>NaN</td>\n",
       "      <td>NaN</td>\n",
       "      <td>NaN</td>\n",
       "      <td>NaN</td>\n",
       "      <td>40.767021</td>\n",
       "      <td>-73.979448</td>\n",
       "      <td>(40.76702142171206, -73.97944780718524)</td>\n",
       "    </tr>\n",
       "    <tr>\n",
       "      <th>2</th>\n",
       "      <td>31950223</td>\n",
       "      <td>11/09/2015 03:55:09 AM</td>\n",
       "      <td>11/09/2015 08:08:57 AM</td>\n",
       "      <td>NYPD</td>\n",
       "      <td>New York City Police Department</td>\n",
       "      <td>Blocked Driveway</td>\n",
       "      <td>No Access</td>\n",
       "      <td>Street/Sidewalk</td>\n",
       "      <td>10453</td>\n",
       "      <td>1993 GRAND AVENUE</td>\n",
       "      <td>...</td>\n",
       "      <td>NaN</td>\n",
       "      <td>NaN</td>\n",
       "      <td>NaN</td>\n",
       "      <td>NaN</td>\n",
       "      <td>NaN</td>\n",
       "      <td>NaN</td>\n",
       "      <td>NaN</td>\n",
       "      <td>40.852671</td>\n",
       "      <td>-73.910608</td>\n",
       "      <td>(40.85267061877697, -73.91060771362552)</td>\n",
       "    </tr>\n",
       "    <tr>\n",
       "      <th>3</th>\n",
       "      <td>31000038</td>\n",
       "      <td>07/03/2015 02:18:32 AM</td>\n",
       "      <td>07/03/2015 07:54:48 AM</td>\n",
       "      <td>NYPD</td>\n",
       "      <td>New York City Police Department</td>\n",
       "      <td>Noise - Commercial</td>\n",
       "      <td>Loud Music/Party</td>\n",
       "      <td>Club/Bar/Restaurant</td>\n",
       "      <td>11372</td>\n",
       "      <td>84-16 NORTHERN BOULEVARD</td>\n",
       "      <td>...</td>\n",
       "      <td>NaN</td>\n",
       "      <td>NaN</td>\n",
       "      <td>NaN</td>\n",
       "      <td>NaN</td>\n",
       "      <td>NaN</td>\n",
       "      <td>NaN</td>\n",
       "      <td>NaN</td>\n",
       "      <td>40.755774</td>\n",
       "      <td>-73.883262</td>\n",
       "      <td>(40.755773786469966, -73.88326243225418)</td>\n",
       "    </tr>\n",
       "    <tr>\n",
       "      <th>4</th>\n",
       "      <td>30995614</td>\n",
       "      <td>07/04/2015 12:03:27 AM</td>\n",
       "      <td>07/04/2015 03:33:09 AM</td>\n",
       "      <td>NYPD</td>\n",
       "      <td>New York City Police Department</td>\n",
       "      <td>Noise - Street/Sidewalk</td>\n",
       "      <td>Loud Talking</td>\n",
       "      <td>Street/Sidewalk</td>\n",
       "      <td>11216</td>\n",
       "      <td>1057 BERGEN STREET</td>\n",
       "      <td>...</td>\n",
       "      <td>NaN</td>\n",
       "      <td>NaN</td>\n",
       "      <td>NaN</td>\n",
       "      <td>NaN</td>\n",
       "      <td>NaN</td>\n",
       "      <td>NaN</td>\n",
       "      <td>NaN</td>\n",
       "      <td>40.676175</td>\n",
       "      <td>-73.951269</td>\n",
       "      <td>(40.67617516102934, -73.9512690004692)</td>\n",
       "    </tr>\n",
       "  </tbody>\n",
       "</table>\n",
       "<p>5 rows × 53 columns</p>\n",
       "</div>"
      ],
      "text/plain": [
       "   Unique Key            Created Date             Closed Date Agency  \\\n",
       "0    31015465  07/06/2015 10:58:27 AM  07/22/2015 01:07:20 AM    DCA   \n",
       "1    30997660  07/03/2015 01:26:29 PM  07/03/2015 02:08:20 PM   NYPD   \n",
       "2    31950223  11/09/2015 03:55:09 AM  11/09/2015 08:08:57 AM   NYPD   \n",
       "3    31000038  07/03/2015 02:18:32 AM  07/03/2015 07:54:48 AM   NYPD   \n",
       "4    30995614  07/04/2015 12:03:27 AM  07/04/2015 03:33:09 AM   NYPD   \n",
       "\n",
       "                       Agency Name           Complaint Type  \\\n",
       "0   Department of Consumer Affairs       Consumer Complaint   \n",
       "1  New York City Police Department                  Vending   \n",
       "2  New York City Police Department         Blocked Driveway   \n",
       "3  New York City Police Department       Noise - Commercial   \n",
       "4  New York City Police Department  Noise - Street/Sidewalk   \n",
       "\n",
       "           Descriptor               Location Type Incident Zip  \\\n",
       "0     Demand for Cash                         NaN        11360   \n",
       "1  In Prohibited Area  Residential Building/House        10019   \n",
       "2           No Access             Street/Sidewalk        10453   \n",
       "3    Loud Music/Party         Club/Bar/Restaurant        11372   \n",
       "4        Loud Talking             Street/Sidewalk        11216   \n",
       "\n",
       "           Incident Address                    ...                     \\\n",
       "0          27-16 203 STREET                    ...                      \n",
       "1    200 CENTRAL PARK SOUTH                    ...                      \n",
       "2         1993 GRAND AVENUE                    ...                      \n",
       "3  84-16 NORTHERN BOULEVARD                    ...                      \n",
       "4        1057 BERGEN STREET                    ...                      \n",
       "\n",
       "  Bridge Highway Name Bridge Highway Direction Road Ramp  \\\n",
       "0                 NaN                      NaN       NaN   \n",
       "1                 NaN                      NaN       NaN   \n",
       "2                 NaN                      NaN       NaN   \n",
       "3                 NaN                      NaN       NaN   \n",
       "4                 NaN                      NaN       NaN   \n",
       "\n",
       "  Bridge Highway Segment Garage Lot Name Ferry Direction Ferry Terminal Name  \\\n",
       "0                    NaN             NaN             NaN                 NaN   \n",
       "1                    NaN             NaN             NaN                 NaN   \n",
       "2                    NaN             NaN             NaN                 NaN   \n",
       "3                    NaN             NaN             NaN                 NaN   \n",
       "4                    NaN             NaN             NaN                 NaN   \n",
       "\n",
       "    Latitude  Longitude                                  Location  \n",
       "0  40.773540 -73.788237     (40.773539552542, -73.78823697228408)  \n",
       "1  40.767021 -73.979448   (40.76702142171206, -73.97944780718524)  \n",
       "2  40.852671 -73.910608   (40.85267061877697, -73.91060771362552)  \n",
       "3  40.755774 -73.883262  (40.755773786469966, -73.88326243225418)  \n",
       "4  40.676175 -73.951269    (40.67617516102934, -73.9512690004692)  \n",
       "\n",
       "[5 rows x 53 columns]"
      ]
     },
     "execution_count": 2,
     "metadata": {},
     "output_type": "execute_result"
    }
   ],
   "source": [
    "# Start by getting the data for 311 service request from 2015\n",
    "DataSet = pd.read_csv(\"311_Service_Requests_from_2015.csv\")\n",
    "DataSet.head()"
   ]
  },
  {
   "cell_type": "markdown",
   "metadata": {},
   "source": [
    "In the data cleaning process we saw that some of the 311 request were not in New York. So we are going to fillter them out"
   ]
  },
  {
   "cell_type": "code",
   "execution_count": 3,
   "metadata": {
    "collapsed": false
   },
   "outputs": [
    {
     "data": {
      "image/png": "[encoded data removed]",
      "text/plain": [
       "<matplotlib.figure.Figure at 0x70cc3ac8>"
      ]
     },
     "metadata": {},
     "output_type": "display_data"
    }
   ],
   "source": [
    "plt.scatter(DataSet[\"Longitude\"], DataSet[\"Latitude\"])\n",
    "plt.show()"
   ]
  },
  {
   "cell_type": "code",
   "execution_count": 4,
   "metadata": {
    "collapsed": false
   },
   "outputs": [],
   "source": [
    "DataSet = DataSet[DataSet[\"Latitude\"] >= 40]\n",
    "total_complaints = DataSet.count"
   ]
  },
  {
   "cell_type": "code",
   "execution_count": 5,
   "metadata": {
    "collapsed": true
   },
   "outputs": [],
   "source": [
    "def getX(Location):\n",
    "    X1 = Location.split(',')[0]\n",
    "    X = X1.split('(')[1]\n",
    "    X = float(X)\n",
    "    return X\n",
    "def getY(Locatoin):\n",
    "    Y1 = Locatoin.split(',')[1]\n",
    "    Y = Y1.split(')')[0]\n",
    "    Y = float(Y)\n",
    "    return Y\n",
    "    "
   ]
  },
  {
   "cell_type": "code",
   "execution_count": 6,
   "metadata": {
    "collapsed": false
   },
   "outputs": [],
   "source": [
    "DataSet['X']= DataSet[\"Location\"].apply(lambda x: getX(x))\n",
    "DataSet['Y']= DataSet[\"Location\"].apply(lambda y: getY(y))"
   ]
  },
  {
   "cell_type": "code",
   "execution_count": 7,
   "metadata": {
    "collapsed": false
   },
   "outputs": [
    {
     "name": "stdout",
     "output_type": "stream",
     "text": [
      "-33.2124263855\n"
     ]
    }
   ],
   "source": [
    "print DataSet['X'][1] + DataSet['Y'][1]"
   ]
  },
  {
   "cell_type": "markdown",
   "metadata": {},
   "source": [
    "We want to take a closer look at the complaint type. We begin to print out each of the catagories"
   ]
  },
  {
   "cell_type": "code",
   "execution_count": 8,
   "metadata": {
    "collapsed": false
   },
   "outputs": [
    {
     "name": "stdout",
     "output_type": "stream",
     "text": [
      "* Complaint Type:  ['Consumer Complaint' 'Vending' 'Blocked Driveway' 'Noise - Commercial'\n",
      " 'Noise - Street/Sidewalk' 'Root/Sewer/Sidewalk Condition' 'Standing Water'\n",
      " 'Overgrown Tree/Branches' 'Construction' 'Street Condition'\n",
      " 'Derelict Vehicle' 'Food Establishment' 'Illegal Parking'\n",
      " 'Dirty Conditions' 'Illegal Tree Damage' 'Damaged Tree'\n",
      " 'UNSANITARY CONDITION' 'Rodent' 'Noise - Park' 'Sidewalk Condition'\n",
      " 'Homeless Encampment' 'Maintenance or Facility' 'HEAT/HOT WATER'\n",
      " 'Noise - Vehicle' 'Dead Tree' 'ELECTRIC' 'Traffic' 'FLOORING/STAIRS'\n",
      " 'Broken Muni Meter' 'Taxi Complaint' 'Curb Condition'\n",
      " 'EAP Inspection - F59' 'Indoor Sewage' 'Indoor Air Quality' 'WATER LEAK'\n",
      " 'Fire Safety Director - F58' 'PAINT/PLASTER' 'Animal Abuse'\n",
      " 'Posting Advertisement' 'PLUMBING' 'Street Sign - Dangling' 'DOOR/WINDOW'\n",
      " 'For Hire Vehicle Complaint' 'APPLIANCE'\n",
      " 'Missed Collection (All Materials)' 'Sanitation Condition' 'Poison Ivy'\n",
      " 'Drinking' 'Food Poisoning' 'Street Sign - Missing'\n",
      " 'Street Sign - Damaged' 'Highway Condition' 'Bike/Roller/Skate Chronic'\n",
      " 'Graffiti' 'Taxi Report' 'General Construction/Plumbing'\n",
      " 'Public Payphone Complaint' 'Non-Residential Heat' 'Smoking' 'GENERAL'\n",
      " 'Bridge Condition' 'Animal in a Park' 'Noise - House of Worship'\n",
      " 'School Maintenance' 'City Vehicle Placard Complaint' 'Open Flame Permit'\n",
      " 'Noise - Helicopter' 'Unsanitary Animal Pvt Property'\n",
      " 'Violation of Park Rules' 'Unsanitary Pigeon Condition' 'Building/Use'\n",
      " 'Street Light Condition' 'New Tree Request' 'SAFETY' 'Elevator' 'Sewer'\n",
      " 'Industrial Waste' 'Disorderly Youth' 'Panhandling'\n",
      " 'Special Projects Inspection Team (SPIT)' 'Illegal Animal Kept as Pet'\n",
      " 'Broken Parking Meter' 'Noise' 'Urinating in Public' 'Illegal Fireworks'\n",
      " 'Beach/Pool/Sauna Complaint' 'Bus Stop Shelter Placement' 'Unleashed Dog'\n",
      " 'Plumbing' 'Special Enforcement' 'Special Natural Area District (SNAD)'\n",
      " 'Water System' 'BEST/Site Safety' 'Traffic Signal Condition'\n",
      " 'Harboring Bees/Wasps' 'Mold' 'Tattooing' 'Fire Alarm - New System'\n",
      " 'Fire Alarm - Reinspection' 'Found Property' 'DPR Internal' 'ELEVATOR'\n",
      " 'X-Ray Machine/Equipment' 'OUTSIDE BUILDING' 'Asbestos' 'Drinking Water'\n",
      " 'Public Toilet' 'Bike Rack Condition' 'For Hire Vehicle Report'\n",
      " 'Derelict Vehicles' 'Senior Center Complaint' 'Window Guard'\n",
      " 'Hazmat Storage/Use' 'Litter Basket / Request' 'Hazardous Materials'\n",
      " 'Fire Alarm - Modification' 'Air Quality' 'Boilers'\n",
      " 'Municipal Parking Facility' 'Unsanitary Animal Facility'\n",
      " 'Public Assembly' 'Illegal Animal Sold'\n",
      " 'Investigations and Discipline (IAD)' 'Animal Facility - No Permit' 'Lead'\n",
      " 'Fire Alarm - Addition' 'Calorie Labeling' 'Vacant Lot' 'Derelict Bicycle'\n",
      " 'Other Enforcement' 'Stalled Sites' 'Overflowing Litter Baskets'\n",
      " 'Fire Alarm - Replacement' 'Electrical' 'Recycling Enforcement'\n",
      " 'Water Conservation' 'Sweeping/Missed' 'Snow' 'Squeegee' 'Day Care'\n",
      " 'Public Assembly - Temporary' 'Transportation Provider Complaint'\n",
      " 'Bottled Water' 'Tanning' 'Sprinkler - Mechanical' 'Lifeguard'\n",
      " 'Building Condition' 'Standpipe - Mechanical' 'Sweeping/Inadequate'\n",
      " 'Rangehood' 'Literature Request' 'Water Quality' 'Cranes and Derricks'\n",
      " 'Laboratory' 'Plant' 'Collection Truck Noise' 'Scaffold Safety'\n",
      " 'Foam Ban Enforcement' 'Miscellaneous Categories'\n",
      " 'Overflowing Recycling Baskets' 'Radioactive Material'\n",
      " 'Homeless Person Assistance' 'Interior Demo' 'Adopt-A-Basket'\n",
      " 'Emergency Response Team (ERT)' 'SRDE' 'AGENCY' 'VACANT APARTMENT'\n",
      " 'Legal Services Provider Complaint' 'Gas Station Discharge Lines'\n",
      " 'Forensic Engineering' 'Noise - Residential' 'Non-Emergency Police Matter']\n"
     ]
    }
   ],
   "source": [
    "print \"* Complaint Type: \", DataSet[\"Complaint Type\"].unique()"
   ]
  },
  {
   "cell_type": "markdown",
   "metadata": {},
   "source": [
    "That is a lot of catagories, lets try to vizualise this better by looking at total number in each catagory"
   ]
  },
  {
   "cell_type": "code",
   "execution_count": 9,
   "metadata": {
    "collapsed": false
   },
   "outputs": [
    {
     "name": "stderr",
     "output_type": "stream",
     "text": [
      "C:\\Users\\s161280\\AppData\\Local\\Continuum\\Anaconda2\\lib\\site-packages\\ipykernel\\__main__.py:11: FutureWarning: sort(columns=....) is deprecated, use sort_values(by=.....)\n"
     ]
    },
    {
     "data": {
      "text/html": [
       "<div>\n",
       "<table border=\"1\" class=\"dataframe\">\n",
       "  <thead>\n",
       "    <tr style=\"text-align: right;\">\n",
       "      <th></th>\n",
       "      <th>Complaint Type</th>\n",
       "      <th>Total</th>\n",
       "    </tr>\n",
       "  </thead>\n",
       "  <tbody>\n",
       "    <tr>\n",
       "      <th>12</th>\n",
       "      <td>Illegal Parking</td>\n",
       "      <td>90862</td>\n",
       "    </tr>\n",
       "    <tr>\n",
       "      <th>2</th>\n",
       "      <td>Blocked Driveway</td>\n",
       "      <td>100192</td>\n",
       "    </tr>\n",
       "    <tr>\n",
       "      <th>9</th>\n",
       "      <td>Street Condition</td>\n",
       "      <td>118479</td>\n",
       "    </tr>\n",
       "    <tr>\n",
       "      <th>171</th>\n",
       "      <td>Noise - Residential</td>\n",
       "      <td>205826</td>\n",
       "    </tr>\n",
       "    <tr>\n",
       "      <th>22</th>\n",
       "      <td>HEAT/HOT WATER</td>\n",
       "      <td>225042</td>\n",
       "    </tr>\n",
       "  </tbody>\n",
       "</table>\n",
       "</div>"
      ],
      "text/plain": [
       "          Complaint Type   Total\n",
       "12       Illegal Parking   90862\n",
       "2       Blocked Driveway  100192\n",
       "9       Street Condition  118479\n",
       "171  Noise - Residential  205826\n",
       "22        HEAT/HOT WATER  225042"
      ]
     },
     "execution_count": 9,
     "metadata": {},
     "output_type": "execute_result"
    }
   ],
   "source": [
    "ComplaintType = DataSet[\"Complaint Type\"].tolist()\n",
    "\n",
    "TotalComplaint =  []\n",
    "for i in DataSet[\"Complaint Type\"].unique(): \n",
    "    number = ComplaintType.count(i)\n",
    "    TotalComplaint.append(number)\n",
    "\n",
    "Df =pd.DataFrame(DataSet[\"Complaint Type\"].unique())   \n",
    "Df = Df.rename(columns={0: \"Complaint Type\"})\n",
    "Df['Total'] = TotalComplaint\n",
    "Df = Df.sort(['Total'],ascending=True)\n",
    "Df.tail()\n",
    "\n"
   ]
  },
  {
   "cell_type": "markdown",
   "metadata": {},
   "source": [
    "We see that the Noise - Residential is the second biggest category. We want to investigate him better. First we are going to make a plot that plots the total number of requests in each catagory. For better visulazation we are going to color the Noice complaint red. "
   ]
  },
  {
   "cell_type": "code",
   "execution_count": 10,
   "metadata": {
    "collapsed": false,
    "scrolled": true
   },
   "outputs": [
    {
     "data": {
      "image/png": "[encoded data removed]",
      "text/plain": [
       "<matplotlib.figure.Figure at 0x70d2b358>"
      ]
     },
     "metadata": {},
     "output_type": "display_data"
    }
   ],
   "source": [
    "# Function that append the color red to the catagory Noise-Residential. \n",
    "def Color(Descriptor):\n",
    "    if Descriptor == \"Noise - Residential\":\n",
    "        return 'Red'    \n",
    "    else:\n",
    "        return 'Blue'\n",
    "\n",
    "Df['Color']= Df['Complaint Type'].apply(lambda x: Color(x))\n",
    "Df.to_csv('ComplaintTypeTotal.csv')\n",
    "\n",
    "# Make a plot\n",
    "y = [i  for i, _ in enumerate(TotalComplaint)]\n",
    "plt.figure(num=None, figsize=(15, 10), dpi=80, facecolor='w', edgecolor='k')\n",
    "plt.bar(y, Df['Total'], color = Df['Color'])\n",
    "plt.title('Number of complaints for each complaint type - 2015')\n",
    "plt.xlabel('Complaint type')\n",
    "plt.ylabel('Number of complaints')\n",
    "plt.savefig('Total_complaints.png', bbox_inches='tight')\n",
    "plt.show()\n"
   ]
  },
  {
   "cell_type": "markdown",
   "metadata": {},
   "source": [
    "Now we want to make a subset of our dataset that only contains information about noise complaints"
   ]
  },
  {
   "cell_type": "code",
   "execution_count": 11,
   "metadata": {
    "collapsed": false
   },
   "outputs": [
    {
     "data": {
      "text/html": [
       "<div>\n",
       "<table border=\"1\" class=\"dataframe\">\n",
       "  <thead>\n",
       "    <tr style=\"text-align: right;\">\n",
       "      <th></th>\n",
       "      <th>Created Date</th>\n",
       "      <th>Complaint Type</th>\n",
       "      <th>Descriptor</th>\n",
       "      <th>Borough</th>\n",
       "      <th>Latitude</th>\n",
       "      <th>Longitude</th>\n",
       "    </tr>\n",
       "  </thead>\n",
       "  <tbody>\n",
       "    <tr>\n",
       "      <th>2012903</th>\n",
       "      <td>01/01/2015 01:35:01 AM</td>\n",
       "      <td>Noise - Residential</td>\n",
       "      <td>Banging/Pounding</td>\n",
       "      <td>BRONX</td>\n",
       "      <td>40.842477</td>\n",
       "      <td>-73.852270</td>\n",
       "    </tr>\n",
       "    <tr>\n",
       "      <th>2012904</th>\n",
       "      <td>01/01/2015 12:31:58 AM</td>\n",
       "      <td>Noise - Residential</td>\n",
       "      <td>Loud Music/Party</td>\n",
       "      <td>QUEENS</td>\n",
       "      <td>40.724593</td>\n",
       "      <td>-73.752675</td>\n",
       "    </tr>\n",
       "    <tr>\n",
       "      <th>2012905</th>\n",
       "      <td>01/01/2015 02:13:23 AM</td>\n",
       "      <td>Noise - Residential</td>\n",
       "      <td>Loud Music/Party</td>\n",
       "      <td>QUEENS</td>\n",
       "      <td>40.738833</td>\n",
       "      <td>-73.862756</td>\n",
       "    </tr>\n",
       "    <tr>\n",
       "      <th>2012906</th>\n",
       "      <td>01/01/2015 12:55:07 AM</td>\n",
       "      <td>Noise - Residential</td>\n",
       "      <td>Banging/Pounding</td>\n",
       "      <td>STATEN ISLAND</td>\n",
       "      <td>40.581880</td>\n",
       "      <td>-74.156985</td>\n",
       "    </tr>\n",
       "    <tr>\n",
       "      <th>2012907</th>\n",
       "      <td>01/01/2015 12:29:52 AM</td>\n",
       "      <td>Noise - Residential</td>\n",
       "      <td>Banging/Pounding</td>\n",
       "      <td>QUEENS</td>\n",
       "      <td>40.739168</td>\n",
       "      <td>-73.763606</td>\n",
       "    </tr>\n",
       "  </tbody>\n",
       "</table>\n",
       "</div>"
      ],
      "text/plain": [
       "                   Created Date       Complaint Type        Descriptor  \\\n",
       "2012903  01/01/2015 01:35:01 AM  Noise - Residential  Banging/Pounding   \n",
       "2012904  01/01/2015 12:31:58 AM  Noise - Residential  Loud Music/Party   \n",
       "2012905  01/01/2015 02:13:23 AM  Noise - Residential  Loud Music/Party   \n",
       "2012906  01/01/2015 12:55:07 AM  Noise - Residential  Banging/Pounding   \n",
       "2012907  01/01/2015 12:29:52 AM  Noise - Residential  Banging/Pounding   \n",
       "\n",
       "               Borough   Latitude  Longitude  \n",
       "2012903          BRONX  40.842477 -73.852270  \n",
       "2012904         QUEENS  40.724593 -73.752675  \n",
       "2012905         QUEENS  40.738833 -73.862756  \n",
       "2012906  STATEN ISLAND  40.581880 -74.156985  \n",
       "2012907         QUEENS  40.739168 -73.763606  "
      ]
     },
     "execution_count": 11,
     "metadata": {},
     "output_type": "execute_result"
    }
   ],
   "source": [
    "Noise_df = DataSet.filter(items = [\"Created Date\", \"Complaint Type\", \"Descriptor\", \"Borough\", \"Latitude\", \"Longitude\"])\n",
    "Noise_df = Noise_df[Noise_df[\"Complaint Type\"] == \"Noise - Residential\"]\n",
    "Total_noise = Noise_df.count\n",
    "Noise_df.to_csv('Noise_total.csv')\n",
    "Noise_df.head()"
   ]
  },
  {
   "cell_type": "markdown",
   "metadata": {},
   "source": [
    "We want to see if we can see some conection between the borough and the noise complaints. Lets count the total number of noise complaints in each borough. We are going to compare that to total number of complaints in each borough so we will plot that as well. "
   ]
  },
  {
   "cell_type": "code",
   "execution_count": 12,
   "metadata": {
    "collapsed": false
   },
   "outputs": [
    {
     "data": {
      "image/png": "[encoded data removed]",
      "text/plain": [
       "<matplotlib.figure.Figure at 0x58fc0a90>"
      ]
     },
     "metadata": {},
     "output_type": "display_data"
    },
    {
     "data": {
      "image/png": "[encoded data removed]",
      "text/plain": [
       "<matplotlib.figure.Figure at 0x58fa90f0>"
      ]
     },
     "metadata": {},
     "output_type": "display_data"
    }
   ],
   "source": [
    "Total_Df_TypeBorough = Noise_df.filter(items = ['Complaint Type', 'Borough']).groupby(['Borough']).count()\n",
    "Borough = Total_Df_TypeBorough.index\n",
    "\n",
    "plt.bar(range(0,5),Total_Df_TypeBorough['Complaint Type'])\n",
    "plt.xticks([i  for i, _ in enumerate(Borough)],Borough, rotation='vertical')\n",
    "plt.title('Number of noise complaints per borough')\n",
    "plt.xlabel('Number of complaints')\n",
    "plt.ylabel('Borough')\n",
    "plt.show()\n",
    "\n",
    "Total_Df = DataSet.filter(items = ['Complaint Type', 'Borough']).groupby(['Borough']).count()\n",
    "Borough = Total_Df.index\n",
    "\n",
    "plt.bar(range(0,6),Total_Df['Complaint Type'])\n",
    "plt.xticks([i  for i, _ in enumerate(Borough)],Borough, rotation='vertical')\n",
    "plt.title('Number of complaints per borough')\n",
    "plt.xlabel('Number of complaints')\n",
    "plt.ylabel('Borough')\n",
    "plt.show()"
   ]
  },
  {
   "cell_type": "code",
   "execution_count": 13,
   "metadata": {
    "collapsed": false
   },
   "outputs": [
    {
     "name": "stdout",
     "output_type": "stream",
     "text": [
      "Index([u'BRONX', u'BROOKLYN', u'MANHATTAN', u'QUEENS', u'STATEN ISLAND',\n",
      "       u'Unspecified'],\n",
      "      dtype='object', name=u'Borough')\n",
      "Borough\n",
      "BRONX            49144\n",
      "BROOKLYN         62620\n",
      "MANHATTAN        46668\n",
      "QUEENS           41162\n",
      "STATEN ISLAND     6232\n",
      "Name: Complaint Type, dtype: int64\n"
     ]
    }
   ],
   "source": [
    "print Borough\n",
    "print Total_Df_TypeBorough['Complaint Type']"
   ]
  },
  {
   "cell_type": "markdown",
   "metadata": {},
   "source": [
    "These bar chart look pretty similar, but there is some different. \n",
    "\n",
    "The noise complaint can be divided into four different categories based on the \"Descriptor\" column. We want to take a better look at that. "
   ]
  },
  {
   "cell_type": "code",
   "execution_count": 14,
   "metadata": {
    "collapsed": false
   },
   "outputs": [
    {
     "name": "stdout",
     "output_type": "stream",
     "text": [
      "* ¨Noise complaint type:  ['Banging/Pounding' 'Loud Music/Party' 'Loud Talking' 'Loud Television']\n"
     ]
    }
   ],
   "source": [
    "print \"* ¨Noise complaint type: \", Noise_df[\"Descriptor\"].unique()"
   ]
  },
  {
   "cell_type": "markdown",
   "metadata": {},
   "source": [
    "Let's take a look of total number of complaints in each complaint type. "
   ]
  },
  {
   "cell_type": "code",
   "execution_count": 15,
   "metadata": {
    "collapsed": false
   },
   "outputs": [
    {
     "data": {
      "image/png": "[encoded data removed]",
      "text/plain": [
       "<matplotlib.figure.Figure at 0xcb4e940>"
      ]
     },
     "metadata": {},
     "output_type": "display_data"
    }
   ],
   "source": [
    "ComplaintTypeTotal = Noise_df.filter(items = [\"Complaint Type\",'Descriptor']).groupby(\"Descriptor\").count()\n",
    "\n",
    "y = [i  for i, _ in enumerate(ComplaintTypeTotal[\"Complaint Type\"])]\n",
    "\n",
    "ComplaintTypeTotal.to_csv('NoiceComplaintDescriptor.csv')\n",
    "\n",
    "plt.bar(y, ComplaintTypeTotal[\"Complaint Type\"])\n",
    "Type = list(ComplaintTypeTotal.index)\n",
    "plt.xticks([i  for i, _ in enumerate(Type)],Type, rotation='vertical')\n",
    "plt.title('Descriptor of Noice complaints')\n",
    "plt.xlabel('Descriptor')\n",
    "plt.ylabel('Total number of complaints')\n",
    "plt.show()\n"
   ]
  },
  {
   "cell_type": "markdown",
   "metadata": {},
   "source": [
    "We also want to look at how the age distribution is in New York. Lets begin to look at the total number of resident in each borough."
   ]
  },
  {
   "cell_type": "code",
   "execution_count": 16,
   "metadata": {
    "collapsed": false
   },
   "outputs": [
    {
     "data": {
      "image/png": "[encoded data removed]",
      "text/plain": [
       "<matplotlib.figure.Figure at 0x1562dda0>"
      ]
     },
     "metadata": {},
     "output_type": "display_data"
    }
   ],
   "source": [
    "DataSet_Age = pd.read_csv(\"Projected_Population_2010-2040.csv\")\n",
    "Age_Borough_Total = DataSet_Age.filter(items = ['Borough', '2015'])[DataSet_Age[\"Age\"] == 'Total']\n",
    "df = Age_Borough_Total.drop(16)\n",
    "\n",
    "plt.bar(range(0,5),df['2015'])\n",
    "plt.xticks([i  for i, _ in enumerate(Borough[0:5])],Borough, rotation='vertical')\n",
    "plt.title('Number of residents per borough')\n",
    "plt.xlabel('Number of restidents')\n",
    "plt.ylabel('Borough')\n",
    "plt.show()\n"
   ]
  },
  {
   "cell_type": "markdown",
   "metadata": {},
   "source": [
    "To get a better view of the age distribution we are going to make a stacked bar chart. We begin to get the age distribution for each borough"
   ]
  },
  {
   "cell_type": "code",
   "execution_count": 17,
   "metadata": {
    "collapsed": false,
    "scrolled": true
   },
   "outputs": [],
   "source": [
    "Age_Borough_BRONX = DataSet_Age[(DataSet_Age[\"Borough\"] == 'Bronx') & (DataSet_Age['Age'] != 'Total')].filter(items = ['Age', '2015'])\n",
    "Age_Borough_BRONX = Age_Borough_BRONX.sort_values(by = 'Age')\n",
    "Age_Borough  = Age_Borough_BRONX.reset_index(drop=True)\n",
    "\n",
    "Age_Borough_BRONX = DataSet_Age[(DataSet_Age[\"Borough\"] == 'Bronx') & (DataSet_Age['Age'] != 'Total')].filter(items = ['Age', '2015'])\n",
    "Age_Borough_BRONX = Age_Borough_BRONX.sort_values(by = 'Age').reset_index(drop=True)\n",
    "\n",
    "Age_Borough_BROOKLYN = DataSet_Age[(DataSet_Age[\"Borough\"] == 'Brooklyn')& (DataSet_Age['Age'] != 'Total')].filter(items = ['Age', '2015'])\n",
    "Age_Borough_BROOKLYN = Age_Borough_BROOKLYN.sort_values(by = 'Age').reset_index(drop=True)\n",
    "\n",
    "\n",
    "Age_Borough_MANHATTAN = DataSet_Age[(DataSet_Age[\"Borough\"] == 'Manhattan') & (DataSet_Age['Age'] != 'Total')].filter(items = ['Age', '2015'])\n",
    "Age_Borough_MANHATTAN = Age_Borough_MANHATTAN.sort_values(by = 'Age').reset_index(drop=True)\n",
    "\n",
    "\n",
    "Age_Borough_QUEENS = DataSet_Age[(DataSet_Age[\"Borough\"] == 'Queens') & (DataSet_Age['Age'] != 'Total')].filter(items = ['Age', '2015'])\n",
    "Age_Borough_QUEENS = Age_Borough_QUEENS.sort_values(by = 'Age').reset_index(drop=True)\n",
    "\n",
    "\n",
    "Age_Borough_STATEN_ISLAND = DataSet_Age[(DataSet_Age[\"Borough\"] == 'Staten Island') & (DataSet_Age['Age'] != 'Total')].filter(items = ['Age', '2015'])\n",
    "Age_Borough_STATEN_ISLAND = Age_Borough_STATEN_ISLAND.sort_values(by = 'Age').reset_index(drop=True)\n",
    "\n",
    "Age = Age_Borough_BRONX['Age']"
   ]
  },
  {
   "cell_type": "code",
   "execution_count": 18,
   "metadata": {
    "collapsed": false
   },
   "outputs": [],
   "source": [
    "Age_Borough['BROOKLYN'] = Age_Borough_BROOKLYN['2015']\n",
    "Age_Borough['MANHATTAN'] = Age_Borough_MANHATTAN['2015']\n",
    "Age_Borough['QUEENS'] = Age_Borough_QUEENS['2015']\n",
    "Age_Borough['STATEN_ISLAND'] = Age_Borough_STATEN_ISLAND['2015']\n",
    "Age_Borough.rename(columns={'2015': 'BRONX'}, inplace=True)\n",
    "\n"
   ]
  },
  {
   "cell_type": "markdown",
   "metadata": {},
   "source": [
    "We made the function age_order to get age distribution in the right order"
   ]
  },
  {
   "cell_type": "code",
   "execution_count": 19,
   "metadata": {
    "collapsed": false
   },
   "outputs": [],
   "source": [
    "def age_order(NumberPerAge):\n",
    "    age_in_order = list()\n",
    "    index_new = [0, 9, 1, 2, 3, 4, 5, 6, 7, 8, 10, 11, 12, 13, 14, 15, 16, 17]\n",
    "    for i in index_new:\n",
    "        RightOrder = NumberPerAge[i]\n",
    "        age_in_order.append(RightOrder)\n",
    "    return age_in_order  \n",
    "\n",
    "BRONX_list_age = age_order(Age_Borough_BRONX['2015'])\n",
    "QUEENS_list_age = age_order(Age_Borough_QUEENS['2015'])\n",
    "MANHATTAN_list_age = age_order(Age_Borough_MANHATTAN['2015'])\n",
    "BROOKLYN_list_age = age_order(Age_Borough_BROOKLYN['2015'])\n",
    "STATEN_ISLAND_list_age = age_order(Age_Borough_STATEN_ISLAND['2015'])\n",
    "Age = age_order(Age) "
   ]
  },
  {
   "cell_type": "markdown",
   "metadata": {},
   "source": [
    "To make bar plot we need to define where the bar should start, we made the function bar_bottom to compute the right posistion for each borough"
   ]
  },
  {
   "cell_type": "code",
   "execution_count": 20,
   "metadata": {
    "collapsed": false
   },
   "outputs": [],
   "source": [
    "def bar_bottom(list1,list2):\n",
    "    bottom_pos = list()\n",
    "    for i in range(0,18):\n",
    "        plus = list1[i] + list2[i]\n",
    "        bottom_pos.append(plus)\n",
    "    return bottom_pos\n",
    "\n",
    "pos1 = bar_bottom(BRONX_list_age,QUEENS_list_age)\n",
    "pos2 = bar_bottom(pos1, MANHATTAN_list_age)\n",
    "pos3  = bar_bottom(pos2, BROOKLYN_list_age)"
   ]
  },
  {
   "cell_type": "markdown",
   "metadata": {},
   "source": [
    "Now we are finaly ready to make this fabulous stacked bar plot"
   ]
  },
  {
   "cell_type": "code",
   "execution_count": 21,
   "metadata": {
    "collapsed": false
   },
   "outputs": [
    {
     "data": {
      "image/png": "[encoded data removed]",
      "text/plain": [
       "<matplotlib.figure.Figure at 0x308b1e10>"
      ]
     },
     "metadata": {},
     "output_type": "display_data"
    }
   ],
   "source": [
    "x = [i  for i, _ in enumerate(Age)]\n",
    "plt.figure(num=None, figsize=(15, 10), dpi=80, facecolor='w', edgecolor='k')\n",
    "p1 = plt.bar(x, BRONX_list_age, label = \"Bronx\")          # bottom = 0\n",
    "p2 = plt.bar(x, QUEENS_list_age, bottom = BRONX_list_age, label = \"Queens\")     # bottom = BRONX\n",
    "p3 = plt.bar(x, MANHATTAN_list_age, bottom = pos1, label = \"Manhattan\")        # bottom = BRONX + QUEENS\n",
    "p3 = plt.bar(x, BROOKLYN_list_age, bottom = pos2, label = \"Brooklyn\")          # bottom = BRONX + QUEENS + MANHATTAN\n",
    "p3 = plt.bar(x, STATEN_ISLAND_list_age, bottom = pos3, label = \"Staten Island\")     # bottom = BRONX + QUEENS + MANHATTAN + BROOKLYN\n",
    "\n",
    "\n",
    "plt.xticks([i  for i, _ in enumerate(Age)],Age, rotation='vertical')\n",
    "plt.legend(bbox_to_anchor=(1.05, 1), loc=2, borderaxespad=0.)\n",
    "plt.xlabel(\"Age\")\n",
    "plt.ylabel(\"Number of residents\")\n",
    "#plt.title(\"Number of residents in each age group\")\n",
    "plt.savefig('Age_NewYork', bbox_inches='tight')\n",
    "plt.show()"
   ]
  },
  {
   "cell_type": "markdown",
   "metadata": {},
   "source": [
    "Now we want to make a scatter plot to see the numer of residents, total numer of noise complaints and total number of compalaints. The plot is going to have number of noise complaint on the yaxis, total number of complaint on xaxis and the radius of the scatter is going to represent total number of residents in each borough."
   ]
  },
  {
   "cell_type": "code",
   "execution_count": 22,
   "metadata": {
    "collapsed": false
   },
   "outputs": [
    {
     "data": {
      "text/html": [
       "<div>\n",
       "<table border=\"1\" class=\"dataframe\">\n",
       "  <thead>\n",
       "    <tr style=\"text-align: right;\">\n",
       "      <th></th>\n",
       "      <th>Complaint Type</th>\n",
       "      <th>Total2015</th>\n",
       "      <th>Borough</th>\n",
       "      <th>NumRes2015</th>\n",
       "      <th>NumRes2010</th>\n",
       "    </tr>\n",
       "  </thead>\n",
       "  <tbody>\n",
       "    <tr>\n",
       "      <th>0</th>\n",
       "      <td>49144</td>\n",
       "      <td>385635</td>\n",
       "      <td>BRONX</td>\n",
       "      <td>1415725</td>\n",
       "      <td>1385108</td>\n",
       "    </tr>\n",
       "    <tr>\n",
       "      <th>1</th>\n",
       "      <td>62620</td>\n",
       "      <td>645889</td>\n",
       "      <td>BROOKLYN</td>\n",
       "      <td>2602844</td>\n",
       "      <td>2552911</td>\n",
       "    </tr>\n",
       "    <tr>\n",
       "      <th>2</th>\n",
       "      <td>46668</td>\n",
       "      <td>437244</td>\n",
       "      <td>MANHATTAN</td>\n",
       "      <td>1610697</td>\n",
       "      <td>1585873</td>\n",
       "    </tr>\n",
       "    <tr>\n",
       "      <th>3</th>\n",
       "      <td>41162</td>\n",
       "      <td>477913</td>\n",
       "      <td>QUEENS</td>\n",
       "      <td>2289489</td>\n",
       "      <td>2250002</td>\n",
       "    </tr>\n",
       "    <tr>\n",
       "      <th>4</th>\n",
       "      <td>6232</td>\n",
       "      <td>100779</td>\n",
       "      <td>STAEN ISLAND</td>\n",
       "      <td>478359</td>\n",
       "      <td>468730</td>\n",
       "    </tr>\n",
       "  </tbody>\n",
       "</table>\n",
       "</div>"
      ],
      "text/plain": [
       "   Complaint Type  Total2015       Borough  NumRes2015  NumRes2010\n",
       "0           49144     385635         BRONX     1415725     1385108\n",
       "1           62620     645889      BROOKLYN     2602844     2552911\n",
       "2           46668     437244     MANHATTAN     1610697     1585873\n",
       "3           41162     477913        QUEENS     2289489     2250002\n",
       "4            6232     100779  STAEN ISLAND      478359      468730"
      ]
     },
     "execution_count": 22,
     "metadata": {},
     "output_type": "execute_result"
    }
   ],
   "source": [
    "Scatter_data = Noise_df.filter(items = ['Complaint Type', 'Borough']).groupby(['Borough']).count()\n",
    "Scatter_data[\"Total2015\"] = DataSet.filter(items = ['Complaint Type', 'Borough']).groupby(['Borough']).count()\n",
    "Scatter_data[\"Borough\"] = ['BRONX', 'BROOKLYN', 'MANHATTAN', 'QUEENS', 'STAEN ISLAND']\n",
    "\n",
    "Scatter_data = Scatter_data.reset_index(drop = True)\n",
    "\n",
    "TotalNumberRes = DataSet_Age[(DataSet_Age['Age'] == 'Total') & (DataSet_Age[\"Borough\"] != 'NYC Total')].filter(items = ['Age', 'Borough', '2015', '2010'])\n",
    "TotalNumberRes = TotalNumberRes.reset_index(drop = True)\n",
    "Scatter_data[\"NumRes2015\"] = TotalNumberRes['2015']\n",
    "Scatter_data[\"NumRes2010\"] = TotalNumberRes['2010']\n",
    "Scatter_data.head()\n",
    "\n"
   ]
  },
  {
   "cell_type": "markdown",
   "metadata": {},
   "source": [
    "## 3. Theory. Which theoretical tools did you use?\n",
    "### Describe which machine learning tools you use and why the tools you've chosen are right for the problem you are solving\n",
    "The machine learning tools we chose were K-Means Clustering and K-Nearest neighbor.\n",
    "#### K-means Clustering \n",
    "We chose this tool since it shows us how the noise complaints are spread over NYC. This will help us to estimate were the most complaints are filed for each Descriptor. For different types we can both compare the location of the centers and how it changes when choosing different number of centers. If the centers are close together it indicates that a lot of the complaints are filed in the same area. \n",
    "Note that the data for all the points was very large, since the noise complaints are numerous. To prevent the points on the map from lagging to much we remove all the duplicates that are the same color in the same point. \n",
    "#### K nearest neighbor \n",
    "The KNN will help us see where which category of noise complaint is the most problematic. Each prediction point is classified according to its nearest neighbor. The data could help the police to prevent these noise complaints by knowing where the type of noise complaint is the most. This also helps us to understand where each descriptor is dominant in each area. \n",
    "We chose to do both for balanced and unbalance data. \n",
    "The unbalanced data will make the algorithm classify an instance from a minority class as one from a majority class. It is interesting to investigate real spatial and temporal complaints probabilities. For example, the noise complaint descriptor Loud Music/Party has the highest number of complaints, so we expect to get far more predictions being influenced from that categories than for example from the Loud Television descriptor.\n",
    "The balanced data is proportional to each noise complaint type. This will be useful when seeing which data is more spread. The map where the data is balanced to occurrences shows the police what type of complaint at a particular altitude (or point) is most likely to occur.  \n",
    "The method was made for the KNeighborsClassifier to be 3, 15 and 30. \n",
    "\n",
    "### Talk about your model selection. How did you split the data in to test/training. Did you use cross validation?\n",
    "### Explain the model performance. How did you measure it? Are your result what you expected?\n",
    "The answers can be found below"
   ]
  },
  {
   "cell_type": "markdown",
   "metadata": {},
   "source": [
    "## Clustering: \n",
    "Now we will do clustering to see how the distribuition between noise complaints types are. \n",
    "We want to make a dataset for include only the longitude and latitude for each type of noise complaint"
   ]
  },
  {
   "cell_type": "code",
   "execution_count": 23,
   "metadata": {
    "collapsed": false
   },
   "outputs": [],
   "source": [
    "DataSet_Cluster_Noise = DataSet[DataSet[\"Complaint Type\"] == \"Noise - Residential\"]\n",
    "DataSet_Cluster_Noise = DataSet_Cluster_Noise.rename(columns={'X': 'Y', 'Y': 'X'})\n",
    "DataSet_cluster = DataSet_Cluster_Noise.filter(items = [\"X\", \"Y\", \"Descriptor\" ])\n",
    "DataSet_cluster_Bang = DataSet_cluster[DataSet_cluster[\"Descriptor\"]== \"Banging/Pounding\"].filter(items = [\"X\", \"Y\"])\n",
    "DataSet_cluster_Music = DataSet_cluster[DataSet_cluster[\"Descriptor\"]== \"Loud Music/Party\"].filter(items = [\"X\", \"Y\"])\n",
    "DataSet_cluster_Talking = DataSet_cluster[DataSet_cluster[\"Descriptor\"]== \"Loud Talking\"].filter(items = [\"X\", \"Y\"])\n",
    "DataSet_cluster_TV = DataSet_cluster[DataSet_cluster[\"Descriptor\"]== \"Loud Television\"].filter(items = [\"X\", \"Y\"])"
   ]
  },
  {
   "cell_type": "code",
   "execution_count": 24,
   "metadata": {
    "collapsed": false,
    "scrolled": true
   },
   "outputs": [
    {
     "data": {
      "text/html": [
       "<div>\n",
       "<table border=\"1\" class=\"dataframe\">\n",
       "  <thead>\n",
       "    <tr style=\"text-align: right;\">\n",
       "      <th></th>\n",
       "      <th>X</th>\n",
       "      <th>Y</th>\n",
       "    </tr>\n",
       "  </thead>\n",
       "  <tbody>\n",
       "    <tr>\n",
       "      <th>2012903</th>\n",
       "      <td>-73.852270</td>\n",
       "      <td>40.842477</td>\n",
       "    </tr>\n",
       "    <tr>\n",
       "      <th>2012906</th>\n",
       "      <td>-74.156985</td>\n",
       "      <td>40.581880</td>\n",
       "    </tr>\n",
       "    <tr>\n",
       "      <th>2012907</th>\n",
       "      <td>-73.763606</td>\n",
       "      <td>40.739168</td>\n",
       "    </tr>\n",
       "    <tr>\n",
       "      <th>2012908</th>\n",
       "      <td>-73.933625</td>\n",
       "      <td>40.759398</td>\n",
       "    </tr>\n",
       "    <tr>\n",
       "      <th>2012945</th>\n",
       "      <td>-73.941066</td>\n",
       "      <td>40.704771</td>\n",
       "    </tr>\n",
       "  </tbody>\n",
       "</table>\n",
       "</div>"
      ],
      "text/plain": [
       "                 X          Y\n",
       "2012903 -73.852270  40.842477\n",
       "2012906 -74.156985  40.581880\n",
       "2012907 -73.763606  40.739168\n",
       "2012908 -73.933625  40.759398\n",
       "2012945 -73.941066  40.704771"
      ]
     },
     "execution_count": 24,
     "metadata": {},
     "output_type": "execute_result"
    }
   ],
   "source": [
    "DataSet_cluster_Bang.head()"
   ]
  },
  {
   "cell_type": "markdown",
   "metadata": {},
   "source": [
    "Lets plot this to see if everything looks fine"
   ]
  },
  {
   "cell_type": "code",
   "execution_count": 25,
   "metadata": {
    "collapsed": false
   },
   "outputs": [
    {
     "data": {
      "image/png": "[encoded data removed]",
      "text/plain": [
       "<matplotlib.figure.Figure at 0x2329e1d0>"
      ]
     },
     "metadata": {},
     "output_type": "display_data"
    }
   ],
   "source": [
    "plt.plot(DataSet_cluster_Bang['X'], DataSet_cluster_Bang['Y'], '*')\n",
    "plt.show()\n"
   ]
  },
  {
   "cell_type": "markdown",
   "metadata": {},
   "source": [
    "This looks good so no we will do the clustering. We will use *fit* and *labels_* from KMeans to find out in what each point should be in. Because we have four different dataset we are going to do the clustering we make a function that does the clustering part for us."
   ]
  },
  {
   "cell_type": "code",
   "execution_count": 26,
   "metadata": {
    "collapsed": false
   },
   "outputs": [],
   "source": [
    "def KMeanDataSet(DataSet):\n",
    "    DataSet_func = DataSet\n",
    "    zip_X_Y = zip(DataSet_func['X'], DataSet_func['Y'])\n",
    "    kmeans = []\n",
    "    for i in xrange(2,7,1):\n",
    "        kmeans.append(KMeans(n_clusters=i).fit(zip_X_Y))\n",
    "\n",
    "    DataSet_func['KMean2'] = kmeans[0].labels_\n",
    "    DataSet_func['KMean3'] = kmeans[1].labels_\n",
    "    DataSet_func['KMean4'] = kmeans[2].labels_\n",
    "    DataSet_func['KMean5'] = kmeans[3].labels_\n",
    "    DataSet_func['KMean6'] = kmeans[4].labels_\n",
    "    \n",
    "    return DataSet_func\n",
    "\n",
    "# --------------------------------------------------------------------------\n",
    "\n",
    "def KMeanVector(DataSet):\n",
    "    DataSet_func = DataSet\n",
    "    zip_X_Y = zip(DataSet_func['X'], DataSet_func['Y'])\n",
    "    kmeans = []\n",
    "    for i in xrange(2,7,1):\n",
    "        kmeans.append(KMeans(n_clusters=i).fit(zip_X_Y))\n",
    "    return kmeans"
   ]
  },
  {
   "cell_type": "code",
   "execution_count": 27,
   "metadata": {
    "collapsed": false
   },
   "outputs": [],
   "source": [
    "Clustering_Bang= KMeanDataSet(DataSet_cluster_Bang)\n",
    "kmeans_Bang = KMeanVector(DataSet_cluster_Bang)\n",
    "Clustering_Music = KMeanDataSet(DataSet_cluster_Music)\n",
    "kmeans_Music = KMeanVector(DataSet_cluster_Music)\n",
    "Clustering_Talking = KMeanDataSet(DataSet_cluster_Talking)\n",
    "kmeans_Talking = KMeanVector(DataSet_cluster_Talking)\n",
    "Clustering_TV = KMeanDataSet(DataSet_cluster_TV)\n",
    "kmeans_TV = KMeanVector(DataSet_cluster_TV)"
   ]
  },
  {
   "cell_type": "code",
   "execution_count": 28,
   "metadata": {
    "collapsed": false
   },
   "outputs": [],
   "source": [
    "Clustering_Bang_drop = Clustering_Bang.drop_duplicates()\n",
    "Clustering_Music_drop = Clustering_Music.drop_duplicates()\n",
    "Clustering_Talking_drop = Clustering_Talking.drop_duplicates()\n",
    "Clustering_TV_drop = Clustering_TV.drop_duplicates()"
   ]
  },
  {
   "cell_type": "code",
   "execution_count": 29,
   "metadata": {
    "collapsed": false
   },
   "outputs": [
    {
     "name": "stdout",
     "output_type": "stream",
     "text": [
      "bang 37259\n",
      "musik 88123\n",
      "talk 6185\n",
      "tv 2233\n"
     ]
    }
   ],
   "source": [
    "print \"bang\", len(Clustering_Bang)-len(Clustering_Bang_drop)\n",
    "print \"musik\", len(Clustering_Music)-len(Clustering_Music_drop)\n",
    "print \"talk\", len(Clustering_Talking)-len(Clustering_Talking_drop)\n",
    "print \"tv\", len(Clustering_TV)-len(Clustering_TV_drop)"
   ]
  },
  {
   "cell_type": "markdown",
   "metadata": {},
   "source": [
    "Lets plot the data to see if everything looks fine"
   ]
  },
  {
   "cell_type": "code",
   "execution_count": 30,
   "metadata": {
    "collapsed": false,
    "scrolled": false
   },
   "outputs": [
    {
     "data": {
      "image/png": "[encoded data removed]",
      "text/plain": [
       "<matplotlib.figure.Figure at 0x125aab38>"
      ]
     },
     "metadata": {},
     "output_type": "display_data"
    }
   ],
   "source": [
    "plt.scatter(Clustering_Bang['X'], Clustering_Bang['Y'], c=Clustering_Bang[\"KMean4\"])\n",
    "plt.title(\"Test\")\n",
    "plt.show()\n"
   ]
  },
  {
   "cell_type": "markdown",
   "metadata": {},
   "source": [
    "Everything looks good so we will make a csv file with our data frame"
   ]
  },
  {
   "cell_type": "code",
   "execution_count": 31,
   "metadata": {
    "collapsed": false
   },
   "outputs": [],
   "source": [
    "Clustering_Bang.to_csv('Clustering_Bang.csv')\n",
    "Clustering_Music.to_csv('Clustering_Music.csv')\n",
    "Clustering_Talking.to_csv('Clustering_Talking.csv')\n",
    "Clustering_TV.to_csv('Clustering_TV.csv')\n"
   ]
  },
  {
   "cell_type": "code",
   "execution_count": 32,
   "metadata": {
    "collapsed": false
   },
   "outputs": [
    {
     "data": {
      "text/plain": [
       "51832"
      ]
     },
     "execution_count": 32,
     "metadata": {},
     "output_type": "execute_result"
    }
   ],
   "source": [
    "len(Clustering_Bang)\n"
   ]
  },
  {
   "cell_type": "markdown",
   "metadata": {},
   "source": [
    "Now we will get the location of the cluster **center** and put it into a csv file. We will start by defening a function, **CenterLocation**, that gets the center location and right color. "
   ]
  },
  {
   "cell_type": "code",
   "execution_count": 33,
   "metadata": {
    "collapsed": false
   },
   "outputs": [],
   "source": [
    "def CenterLocation(kmeans):\n",
    "    Center_Location = []\n",
    "    for i in range(len(kmeans)):\n",
    "        Center_Location.append(kmeans[i].cluster_centers_.tolist())  \n",
    "        \n",
    "    # We will make a dataframe with the loacation    \n",
    "    X_center = [[] for x in xrange(5)]\n",
    "    Y_center = [[] for x in xrange(5)]\n",
    "\n",
    "    for i in range(len(Center_Location[:5])):\n",
    "        X_center[i] = [x[0] for x in Center_Location[i]]\n",
    "        Y_center[i] = [x[1] for x in Center_Location[i]]\n",
    "    \n",
    "    Centers = {'X_KMean2' : pd.Series(X_center[0], index=['1', '2']), 'Y_KMean2' : pd.Series(Y_center[0], index=['1', '2']), 'X_KMean3' : pd.Series(X_center[1], index=['1', '2', '3']), 'Y_KMean3' : pd.Series(Y_center[1], index=['1', '2', '3']), 'X_KMean4' : pd.Series(X_center[2], index=['1', '2', '3', '4']), 'Y_KMean4' : pd.Series(Y_center[2], index=['1', '2', '3', '4']), 'X_KMean5' : pd.Series(X_center[3], index=['1', '2', '3', '4', '5']), 'Y_KMean5' : pd.Series(Y_center[3], index=['1', '2', '3', '4', '5']), 'X_KMean6' : pd.Series(X_center[4], index=['1', '2', '3', '4', '5', '6']), 'Y_KMean6' : pd.Series(Y_center[4], index=['1', '2', '3', '4', '5', '6'])}\n",
    "\n",
    "    dfCenters = pd.DataFrame(Centers)\n",
    "    dfCenters.head()\n",
    "    \n",
    "    # To color the centers in the same color as the location point we add a color column to our data frame\n",
    "    dfCenters['Color_KMean2'] = [0,1,1,1,1,1]\n",
    "    dfCenters['Color_KMean3'] = [0,2,1,1,1,1]\n",
    "    dfCenters['Color_KMean4'] = [3,2,1,0,0,0]\n",
    "    dfCenters['Color_KMean5'] = [0,1,3,4,2,2]\n",
    "    dfCenters['Color_KMean6'] = [2,1,0,3,4,5]\n",
    "    \n",
    "    return dfCenters\n",
    "\n"
   ]
  },
  {
   "cell_type": "markdown",
   "metadata": {},
   "source": [
    "Now we will get the center with the new function and save the data in a CSV file."
   ]
  },
  {
   "cell_type": "code",
   "execution_count": 34,
   "metadata": {
    "collapsed": false
   },
   "outputs": [],
   "source": [
    "Center_Bang = CenterLocation(kmeans_Bang)\n",
    "Center_Bang.to_csv('Center_Bang.csv')\n",
    "Center_Music = CenterLocation(kmeans_Music)\n",
    "Center_Music.to_csv('Center_Music.csv')\n",
    "Center_Talking = CenterLocation(kmeans_Talking)\n",
    "Center_Talking.to_csv('Center_Talking.csv')\n",
    "Center_TV = CenterLocation(kmeans_TV)\n",
    "Center_TV.to_csv('Center_TV.csv')\n"
   ]
  },
  {
   "cell_type": "code",
   "execution_count": 35,
   "metadata": {
    "collapsed": false
   },
   "outputs": [
    {
     "data": {
      "text/html": [
       "<div>\n",
       "<table border=\"1\" class=\"dataframe\">\n",
       "  <thead>\n",
       "    <tr style=\"text-align: right;\">\n",
       "      <th></th>\n",
       "      <th>X_KMean2</th>\n",
       "      <th>X_KMean3</th>\n",
       "      <th>X_KMean4</th>\n",
       "      <th>X_KMean5</th>\n",
       "      <th>X_KMean6</th>\n",
       "      <th>Y_KMean2</th>\n",
       "      <th>Y_KMean3</th>\n",
       "      <th>Y_KMean4</th>\n",
       "      <th>Y_KMean5</th>\n",
       "      <th>Y_KMean6</th>\n",
       "      <th>Color_KMean2</th>\n",
       "      <th>Color_KMean3</th>\n",
       "      <th>Color_KMean4</th>\n",
       "      <th>Color_KMean5</th>\n",
       "      <th>Color_KMean6</th>\n",
       "    </tr>\n",
       "  </thead>\n",
       "  <tbody>\n",
       "    <tr>\n",
       "      <th>1</th>\n",
       "      <td>-73.898416</td>\n",
       "      <td>-73.845666</td>\n",
       "      <td>-73.957409</td>\n",
       "      <td>-74.019786</td>\n",
       "      <td>-73.832033</td>\n",
       "      <td>40.810612</td>\n",
       "      <td>40.710287</td>\n",
       "      <td>40.746014</td>\n",
       "      <td>40.606489</td>\n",
       "      <td>40.713587</td>\n",
       "      <td>0</td>\n",
       "      <td>0</td>\n",
       "      <td>3</td>\n",
       "      <td>0</td>\n",
       "      <td>2</td>\n",
       "    </tr>\n",
       "    <tr>\n",
       "      <th>2</th>\n",
       "      <td>-73.961799</td>\n",
       "      <td>-73.977755</td>\n",
       "      <td>-73.979818</td>\n",
       "      <td>-73.892730</td>\n",
       "      <td>-73.886613</td>\n",
       "      <td>40.660479</td>\n",
       "      <td>40.659930</td>\n",
       "      <td>40.634616</td>\n",
       "      <td>40.852062</td>\n",
       "      <td>40.855933</td>\n",
       "      <td>1</td>\n",
       "      <td>2</td>\n",
       "      <td>2</td>\n",
       "      <td>1</td>\n",
       "      <td>1</td>\n",
       "    </tr>\n",
       "    <tr>\n",
       "      <th>3</th>\n",
       "      <td>NaN</td>\n",
       "      <td>-73.913660</td>\n",
       "      <td>-73.837575</td>\n",
       "      <td>-73.827829</td>\n",
       "      <td>-73.956387</td>\n",
       "      <td>NaN</td>\n",
       "      <td>40.830755</td>\n",
       "      <td>40.707008</td>\n",
       "      <td>40.713461</td>\n",
       "      <td>40.633865</td>\n",
       "      <td>1</td>\n",
       "      <td>1</td>\n",
       "      <td>1</td>\n",
       "      <td>3</td>\n",
       "      <td>0</td>\n",
       "    </tr>\n",
       "    <tr>\n",
       "      <th>4</th>\n",
       "      <td>NaN</td>\n",
       "      <td>NaN</td>\n",
       "      <td>-73.903822</td>\n",
       "      <td>-73.946606</td>\n",
       "      <td>-73.938790</td>\n",
       "      <td>NaN</td>\n",
       "      <td>NaN</td>\n",
       "      <td>40.844347</td>\n",
       "      <td>40.790187</td>\n",
       "      <td>40.808129</td>\n",
       "      <td>1</td>\n",
       "      <td>1</td>\n",
       "      <td>0</td>\n",
       "      <td>4</td>\n",
       "      <td>3</td>\n",
       "    </tr>\n",
       "    <tr>\n",
       "      <th>5</th>\n",
       "      <td>NaN</td>\n",
       "      <td>NaN</td>\n",
       "      <td>NaN</td>\n",
       "      <td>-73.952114</td>\n",
       "      <td>-74.094497</td>\n",
       "      <td>NaN</td>\n",
       "      <td>NaN</td>\n",
       "      <td>NaN</td>\n",
       "      <td>40.675162</td>\n",
       "      <td>40.610387</td>\n",
       "      <td>1</td>\n",
       "      <td>1</td>\n",
       "      <td>0</td>\n",
       "      <td>2</td>\n",
       "      <td>4</td>\n",
       "    </tr>\n",
       "  </tbody>\n",
       "</table>\n",
       "</div>"
      ],
      "text/plain": [
       "    X_KMean2   X_KMean3   X_KMean4   X_KMean5   X_KMean6   Y_KMean2  \\\n",
       "1 -73.898416 -73.845666 -73.957409 -74.019786 -73.832033  40.810612   \n",
       "2 -73.961799 -73.977755 -73.979818 -73.892730 -73.886613  40.660479   \n",
       "3        NaN -73.913660 -73.837575 -73.827829 -73.956387        NaN   \n",
       "4        NaN        NaN -73.903822 -73.946606 -73.938790        NaN   \n",
       "5        NaN        NaN        NaN -73.952114 -74.094497        NaN   \n",
       "\n",
       "    Y_KMean3   Y_KMean4   Y_KMean5   Y_KMean6  Color_KMean2  Color_KMean3  \\\n",
       "1  40.710287  40.746014  40.606489  40.713587             0             0   \n",
       "2  40.659930  40.634616  40.852062  40.855933             1             2   \n",
       "3  40.830755  40.707008  40.713461  40.633865             1             1   \n",
       "4        NaN  40.844347  40.790187  40.808129             1             1   \n",
       "5        NaN        NaN  40.675162  40.610387             1             1   \n",
       "\n",
       "   Color_KMean4  Color_KMean5  Color_KMean6  \n",
       "1             3             0             2  \n",
       "2             2             1             1  \n",
       "3             1             3             0  \n",
       "4             0             4             3  \n",
       "5             0             2             4  "
      ]
     },
     "execution_count": 35,
     "metadata": {},
     "output_type": "execute_result"
    }
   ],
   "source": [
    "Center_Bang.head()"
   ]
  },
  {
   "cell_type": "markdown",
   "metadata": {},
   "source": [
    "## KNN: \n",
    "Now we will do KNN analysis to see how the distribuition between noise complaints types are. \n",
    "We use the dataset we made earlier called Noise_df. We wil make focus on the three largest Descriptors:\n",
    "* Banging/Pounding\n",
    "* Loud Music/Party\n",
    "* Loud Talking"
   ]
  },
  {
   "cell_type": "code",
   "execution_count": 36,
   "metadata": {
    "collapsed": false
   },
   "outputs": [
    {
     "name": "stdout",
     "output_type": "stream",
     "text": [
      "The number of noise complaints in 2015:  205826\n"
     ]
    }
   ],
   "source": [
    "# The type of niose complaints we want to explore\n",
    "focusComplaint = ['Banging/Pounding', 'Loud Music/Party', 'Loud Talking']\n",
    "# The length of the dataset\n",
    "length_noise = len(Noise_df)\n",
    "print \"The number of noise complaints in 2015: \", length_noise"
   ]
  },
  {
   "cell_type": "markdown",
   "metadata": {},
   "source": [
    "Then we calculate the length of each focus complaint and check which one has the least number of complaints."
   ]
  },
  {
   "cell_type": "code",
   "execution_count": 37,
   "metadata": {
    "collapsed": false
   },
   "outputs": [
    {
     "name": "stdout",
     "output_type": "stream",
     "text": [
      "The number of Banging/Pounding is 51832\n",
      "The number of Loud Music/Party is 136290\n",
      "The number of Loud Talking is 13922\n",
      "13922\n"
     ]
    }
   ],
   "source": [
    "# Calculate the number of each focus complaint.\n",
    "length = []\n",
    "for i in range(3):\n",
    "    length.append(sum(Noise_df[\"Descriptor\"] == focusComplaint[i]))\n",
    "    print \"The number of %s is %d\" %(focusComplaint[i],length[i])\n",
    "\n",
    "# Find the minimum lenth of focuscrimes\n",
    "min_noise_compl = min(length)\n",
    "print min_noise_compl"
   ]
  },
  {
   "cell_type": "code",
   "execution_count": 38,
   "metadata": {
    "collapsed": true
   },
   "outputs": [],
   "source": [
    "# change the index\n",
    "Noise_df = Noise_df.reset_index(drop=True)"
   ]
  },
  {
   "cell_type": "markdown",
   "metadata": {},
   "source": [
    "Then we set the data on the right form with numbering 0,1,2 to be able to execute the **K nearest neighbour**. We will be implementig the method on both **Unbalanced** data and **Balanced**. "
   ]
  },
  {
   "cell_type": "code",
   "execution_count": 39,
   "metadata": {
    "collapsed": true
   },
   "outputs": [],
   "source": [
    "# Initialize vectors for the longtitude and latitude\n",
    "X = []\n",
    "XBang = []\n",
    "XMusic = []\n",
    "XTalk = []\n",
    "\n",
    "# Initialize vectors for the numbering; 0,1,2\n",
    "Y = []\n",
    "Yrand = []\n",
    "\n",
    "# Initialize the counter\n",
    "i = 0\n",
    "\n",
    "# Get the data for Prostitution crimes\n",
    "for i in range(length_noise):\n",
    "    if Noise_df[\"Descriptor\"][i] == 'Banging/Pounding':\n",
    "        X.append([float(Noise_df['Longitude'][i]),float(Noise_df['Latitude'][i])])\n",
    "        XBang.append([float(Noise_df['Longitude'][i]),float(Noise_df['Latitude'][i])])\n",
    "        Y.append(0)\n",
    "    if Noise_df[\"Descriptor\"][i] == 'Loud Music/Party':\n",
    "        X.append([float(Noise_df['Longitude'][i]),float(Noise_df['Latitude'][i])])\n",
    "        XMusic.append([float(Noise_df['Longitude'][i]),float(Noise_df['Latitude'][i])])\n",
    "        Y.append(1)\n",
    "    if Noise_df[\"Descriptor\"][i] == 'Loud Talking' :\n",
    "        X.append([float(Noise_df['Longitude'][i]),float(Noise_df['Latitude'][i])])\n",
    "        XTalk.append([float(Noise_df['Longitude'][i]),float(Noise_df['Latitude'][i])])\n",
    "        Y.append(2)\n",
    "            \n",
    "\n",
    "# Make the dataset 'balanced' by choosing randomly equal number of crimes \n",
    "XBang_rand = random.sample(XBang,min_noise_compl)\n",
    "XMusic_rand = random.sample(XMusic,min_noise_compl)\n",
    "XTalk_rand = random.sample(XTalk,min_noise_compl)\n",
    "\n",
    "# Make the Yrand array same size as Xrand \n",
    "Yrand = [0]*min_noise_compl + [1]*min_noise_compl + [2]*min_noise_compl\n",
    "Xrand = XBang_rand + XMusic_rand + XTalk_rand\n",
    "\n",
    "# Set as arrays\n",
    "Xrand = np.array(Xrand)\n",
    "Yrand = np.array(Yrand)\n",
    "X = np.array(X)\n",
    "Y = np.array(Y)"
   ]
  },
  {
   "cell_type": "markdown",
   "metadata": {},
   "source": [
    "The function predictknn is then made. The n represente the *KNeighborsclassifier*, X is the altitude of the points and Y is the numbering vector. "
   ]
  },
  {
   "cell_type": "code",
   "execution_count": 40,
   "metadata": {
    "collapsed": true
   },
   "outputs": [],
   "source": [
    "# Make a function that makes knn prediction and plots the outcome\n",
    "def predictknn(X,Y,n):\n",
    "    \n",
    "    # Find the max and min of the latitude(y) and the longtitude(x)\n",
    "    x_min, x_max = X[:,0].min() , X[:,0].max() \n",
    "    y_min, y_max = X[:,1].min() , X[:,1].max() \n",
    "    \n",
    "    # Set the step size in the mesh\n",
    "    h = 0.01 \n",
    "    # Set the KNeighborsClassifier to n\n",
    "    knn=neighbors.KNeighborsClassifier(n_neighbors = n)\n",
    "    # Create an instance of Neighbours Classifier and fit the data.\n",
    "    knn.fit(X, Y)\n",
    "\n",
    "    # Make a grid over the area \n",
    "    xx, yy = np.meshgrid(np.arange(x_min, x_max, h),\n",
    "                         np.arange(y_min, y_max, h))\n",
    "    # The predictions\n",
    "    Z = knn.predict(np.c_[xx.ravel(), yy.ravel()])\n",
    "\n",
    "    # Initialize altitudes for each crime\n",
    "    banglon=[]\n",
    "    banglat=[]\n",
    "    \n",
    "    # Set the x and y vectors of the grid\n",
    "    x = xx.ravel()\n",
    "    y = yy.ravel()\n",
    "    \n",
    "    # create for the dataframe\n",
    "    knn_df = {\"X\": x, \"Y\": y}\n",
    "                \n",
    "    return Z, x, y, knn_df"
   ]
  },
  {
   "cell_type": "markdown",
   "metadata": {},
   "source": [
    "### Balanced \n",
    "Then we call the function predictknn for n = 3, 15 and 30 and use the balanced data"
   ]
  },
  {
   "cell_type": "code",
   "execution_count": 41,
   "metadata": {
    "collapsed": true
   },
   "outputs": [],
   "source": [
    "# Use the function predictknn to find the balanced predictions\n",
    "# For n = 3\n",
    "n3 = 3\n",
    "Zrand3, xrand3, yrand3, knn_df3_rand = predictknn(Xrand,Yrand, n3)\n",
    "\n",
    "# For n = 15\n",
    "n15 = 15\n",
    "Zrand15, xrand15, yrand15, knn_df15_rand = predictknn(Xrand,Yrand, n15)\n",
    "\n",
    "# For n = 30\n",
    "n30 = 30\n",
    "Zrand30, xrand30, yrand30, knn_df30_rand = predictknn(Xrand,Yrand, n30)"
   ]
  },
  {
   "cell_type": "code",
   "execution_count": 42,
   "metadata": {
    "collapsed": true
   },
   "outputs": [],
   "source": [
    "# make all the altitudes to a dataset\n",
    "knnbalance_df3 = pd.DataFrame(knn_df3_rand)\n",
    "knnbalance_df15 = pd.DataFrame(knn_df15_rand)\n",
    "knnbalance_df30 = pd.DataFrame(knn_df30_rand)"
   ]
  },
  {
   "cell_type": "code",
   "execution_count": 43,
   "metadata": {
    "collapsed": false
   },
   "outputs": [
    {
     "data": {
      "text/html": [
       "<div>\n",
       "<table border=\"1\" class=\"dataframe\">\n",
       "  <thead>\n",
       "    <tr style=\"text-align: right;\">\n",
       "      <th></th>\n",
       "      <th>X</th>\n",
       "      <th>Y</th>\n",
       "    </tr>\n",
       "  </thead>\n",
       "  <tbody>\n",
       "    <tr>\n",
       "      <th>0</th>\n",
       "      <td>-74.250349</td>\n",
       "      <td>40.49944</td>\n",
       "    </tr>\n",
       "    <tr>\n",
       "      <th>1</th>\n",
       "      <td>-74.240349</td>\n",
       "      <td>40.49944</td>\n",
       "    </tr>\n",
       "    <tr>\n",
       "      <th>2</th>\n",
       "      <td>-74.230349</td>\n",
       "      <td>40.49944</td>\n",
       "    </tr>\n",
       "    <tr>\n",
       "      <th>3</th>\n",
       "      <td>-74.220349</td>\n",
       "      <td>40.49944</td>\n",
       "    </tr>\n",
       "    <tr>\n",
       "      <th>4</th>\n",
       "      <td>-74.210349</td>\n",
       "      <td>40.49944</td>\n",
       "    </tr>\n",
       "  </tbody>\n",
       "</table>\n",
       "</div>"
      ],
      "text/plain": [
       "           X         Y\n",
       "0 -74.250349  40.49944\n",
       "1 -74.240349  40.49944\n",
       "2 -74.230349  40.49944\n",
       "3 -74.220349  40.49944\n",
       "4 -74.210349  40.49944"
      ]
     },
     "execution_count": 43,
     "metadata": {},
     "output_type": "execute_result"
    }
   ],
   "source": [
    "# Make a dataset for the balanced data\n",
    "knnbalance_df = pd.DataFrame(knn_df3_rand)\n",
    "knnbalance_df.head()"
   ]
  },
  {
   "cell_type": "markdown",
   "metadata": {},
   "source": [
    "Make a dataset for the KNN prediction for the balanced data:"
   ]
  },
  {
   "cell_type": "code",
   "execution_count": 44,
   "metadata": {
    "collapsed": false
   },
   "outputs": [
    {
     "data": {
      "text/html": [
       "<div>\n",
       "<table border=\"1\" class=\"dataframe\">\n",
       "  <thead>\n",
       "    <tr style=\"text-align: right;\">\n",
       "      <th></th>\n",
       "      <th>X</th>\n",
       "      <th>Y</th>\n",
       "      <th>Z3</th>\n",
       "      <th>Z15</th>\n",
       "      <th>Z30</th>\n",
       "    </tr>\n",
       "  </thead>\n",
       "  <tbody>\n",
       "    <tr>\n",
       "      <th>0</th>\n",
       "      <td>-74.250349</td>\n",
       "      <td>40.49944</td>\n",
       "      <td>0</td>\n",
       "      <td>2</td>\n",
       "      <td>2</td>\n",
       "    </tr>\n",
       "    <tr>\n",
       "      <th>1</th>\n",
       "      <td>-74.240349</td>\n",
       "      <td>40.49944</td>\n",
       "      <td>0</td>\n",
       "      <td>2</td>\n",
       "      <td>2</td>\n",
       "    </tr>\n",
       "    <tr>\n",
       "      <th>2</th>\n",
       "      <td>-74.230349</td>\n",
       "      <td>40.49944</td>\n",
       "      <td>0</td>\n",
       "      <td>2</td>\n",
       "      <td>2</td>\n",
       "    </tr>\n",
       "    <tr>\n",
       "      <th>3</th>\n",
       "      <td>-74.220349</td>\n",
       "      <td>40.49944</td>\n",
       "      <td>1</td>\n",
       "      <td>2</td>\n",
       "      <td>2</td>\n",
       "    </tr>\n",
       "    <tr>\n",
       "      <th>4</th>\n",
       "      <td>-74.210349</td>\n",
       "      <td>40.49944</td>\n",
       "      <td>2</td>\n",
       "      <td>2</td>\n",
       "      <td>2</td>\n",
       "    </tr>\n",
       "  </tbody>\n",
       "</table>\n",
       "</div>"
      ],
      "text/plain": [
       "           X         Y  Z3  Z15  Z30\n",
       "0 -74.250349  40.49944   0    2    2\n",
       "1 -74.240349  40.49944   0    2    2\n",
       "2 -74.230349  40.49944   0    2    2\n",
       "3 -74.220349  40.49944   1    2    2\n",
       "4 -74.210349  40.49944   2    2    2"
      ]
     },
     "execution_count": 44,
     "metadata": {},
     "output_type": "execute_result"
    }
   ],
   "source": [
    "# include the Z values to set each point 0,1 or 2\n",
    "knnbalance_df['Z3'] = Zrand3\n",
    "knnbalance_df['Z15'] = Zrand15\n",
    "knnbalance_df['Z30'] = Zrand30\n",
    "\n",
    "\n",
    "knnbalance_df.to_csv('knn_balance.csv')\n",
    "\n",
    "knnbalance_df.head()"
   ]
  },
  {
   "cell_type": "markdown",
   "metadata": {},
   "source": [
    "### Unbalanced \n",
    "Then we call the function predictknn for n = 3, 15 and 30 and use the unbalanced data"
   ]
  },
  {
   "cell_type": "code",
   "execution_count": 45,
   "metadata": {
    "collapsed": true
   },
   "outputs": [],
   "source": [
    "# Use the function predictknn to find the unbalanced predictions\n",
    "# For n = 3\n",
    "n3 = 3\n",
    "Z3, x3, y3, knn_df3 = predictknn(X,Y, n3)\n",
    "\n",
    "# For n = 15\n",
    "n15 = 15\n",
    "Z15, x15, y15, knn_df15 = predictknn(X,Y, n15)\n",
    "\n",
    "# For n = 30\n",
    "n30 = 30\n",
    "Z30, x30, y30, knn_df30 = predictknn(X,Y, n30)"
   ]
  },
  {
   "cell_type": "code",
   "execution_count": 46,
   "metadata": {
    "collapsed": true
   },
   "outputs": [],
   "source": [
    "# make all the altitudes to a dataset\n",
    "knn_df3 = pd.DataFrame(knn_df3)\n",
    "knn_df15 = pd.DataFrame(knn_df15)\n",
    "knn_df30 = pd.DataFrame(knn_df30)"
   ]
  },
  {
   "cell_type": "code",
   "execution_count": 47,
   "metadata": {
    "collapsed": false
   },
   "outputs": [
    {
     "data": {
      "text/html": [
       "<div>\n",
       "<table border=\"1\" class=\"dataframe\">\n",
       "  <thead>\n",
       "    <tr style=\"text-align: right;\">\n",
       "      <th></th>\n",
       "      <th>X</th>\n",
       "      <th>Y</th>\n",
       "    </tr>\n",
       "  </thead>\n",
       "  <tbody>\n",
       "    <tr>\n",
       "      <th>0</th>\n",
       "      <td>-74.251277</td>\n",
       "      <td>40.499423</td>\n",
       "    </tr>\n",
       "    <tr>\n",
       "      <th>1</th>\n",
       "      <td>-74.241277</td>\n",
       "      <td>40.499423</td>\n",
       "    </tr>\n",
       "    <tr>\n",
       "      <th>2</th>\n",
       "      <td>-74.231277</td>\n",
       "      <td>40.499423</td>\n",
       "    </tr>\n",
       "    <tr>\n",
       "      <th>3</th>\n",
       "      <td>-74.221277</td>\n",
       "      <td>40.499423</td>\n",
       "    </tr>\n",
       "    <tr>\n",
       "      <th>4</th>\n",
       "      <td>-74.211277</td>\n",
       "      <td>40.499423</td>\n",
       "    </tr>\n",
       "  </tbody>\n",
       "</table>\n",
       "</div>"
      ],
      "text/plain": [
       "           X          Y\n",
       "0 -74.251277  40.499423\n",
       "1 -74.241277  40.499423\n",
       "2 -74.231277  40.499423\n",
       "3 -74.221277  40.499423\n",
       "4 -74.211277  40.499423"
      ]
     },
     "execution_count": 47,
     "metadata": {},
     "output_type": "execute_result"
    }
   ],
   "source": [
    "# Make a dataset for the unbalanced data\n",
    "knn_df = pd.DataFrame(knn_df3)\n",
    "knn_df.head()"
   ]
  },
  {
   "cell_type": "markdown",
   "metadata": {},
   "source": [
    "Make a dataset for the KNN prediction for the unbalanced data:"
   ]
  },
  {
   "cell_type": "code",
   "execution_count": 48,
   "metadata": {
    "collapsed": false
   },
   "outputs": [
    {
     "data": {
      "text/html": [
       "<div>\n",
       "<table border=\"1\" class=\"dataframe\">\n",
       "  <thead>\n",
       "    <tr style=\"text-align: right;\">\n",
       "      <th></th>\n",
       "      <th>X</th>\n",
       "      <th>Y</th>\n",
       "      <th>Z3</th>\n",
       "      <th>Z15</th>\n",
       "      <th>Z30</th>\n",
       "    </tr>\n",
       "  </thead>\n",
       "  <tbody>\n",
       "    <tr>\n",
       "      <th>0</th>\n",
       "      <td>-74.251277</td>\n",
       "      <td>40.499423</td>\n",
       "      <td>1</td>\n",
       "      <td>0</td>\n",
       "      <td>1</td>\n",
       "    </tr>\n",
       "    <tr>\n",
       "      <th>1</th>\n",
       "      <td>-74.241277</td>\n",
       "      <td>40.499423</td>\n",
       "      <td>0</td>\n",
       "      <td>0</td>\n",
       "      <td>0</td>\n",
       "    </tr>\n",
       "    <tr>\n",
       "      <th>2</th>\n",
       "      <td>-74.231277</td>\n",
       "      <td>40.499423</td>\n",
       "      <td>1</td>\n",
       "      <td>2</td>\n",
       "      <td>0</td>\n",
       "    </tr>\n",
       "    <tr>\n",
       "      <th>3</th>\n",
       "      <td>-74.221277</td>\n",
       "      <td>40.499423</td>\n",
       "      <td>1</td>\n",
       "      <td>1</td>\n",
       "      <td>1</td>\n",
       "    </tr>\n",
       "    <tr>\n",
       "      <th>4</th>\n",
       "      <td>-74.211277</td>\n",
       "      <td>40.499423</td>\n",
       "      <td>1</td>\n",
       "      <td>1</td>\n",
       "      <td>1</td>\n",
       "    </tr>\n",
       "  </tbody>\n",
       "</table>\n",
       "</div>"
      ],
      "text/plain": [
       "           X          Y  Z3  Z15  Z30\n",
       "0 -74.251277  40.499423   1    0    1\n",
       "1 -74.241277  40.499423   0    0    0\n",
       "2 -74.231277  40.499423   1    2    0\n",
       "3 -74.221277  40.499423   1    1    1\n",
       "4 -74.211277  40.499423   1    1    1"
      ]
     },
     "execution_count": 48,
     "metadata": {},
     "output_type": "execute_result"
    }
   ],
   "source": [
    "# include the Z values to set each point 0,1 or 2\n",
    "knn_df['Z3'] = Z3\n",
    "knn_df['Z15'] = Z15\n",
    "knn_df['Z30'] = Z30\n",
    "\n",
    "knn_df.to_csv('knn_unbalance.csv')\n",
    "\n",
    "knn_df.head()"
   ]
  },
  {
   "cell_type": "markdown",
   "metadata": {},
   "source": [
    "Make a scatter plot to see if the map worked"
   ]
  },
  {
   "cell_type": "code",
   "execution_count": 49,
   "metadata": {
    "collapsed": false
   },
   "outputs": [
    {
     "data": {
      "image/png": "[encoded data removed]",
      "text/plain": [
       "<matplotlib.figure.Figure at 0x5cd118d0>"
      ]
     },
     "metadata": {},
     "output_type": "display_data"
    },
    {
     "data": {
      "image/png": "[encoded data removed]",
      "text/plain": [
       "<matplotlib.figure.Figure at 0x232bb320>"
      ]
     },
     "metadata": {},
     "output_type": "display_data"
    }
   ],
   "source": [
    "plt.scatter(knn_df['X'], knn_df['Y'], c=knn_df[\"Z30\"])\n",
    "plt.show()\n",
    "\n",
    "plt.scatter(knnbalance_df['X'], knnbalance_df['Y'], c=knnbalance_df[\"Z30\"])\n",
    "plt.show()"
   ]
  },
  {
   "cell_type": "markdown",
   "metadata": {},
   "source": [
    "## Validation of the model\n",
    "\n",
    "To validate our model we made a train data set and a test data set with the function train_test_split function from sklearn.cross_validation, we decided to split the data into 20% train data and 80% test data.  We did clustering method for both the train and test data and compered the error of the center points for K = 2,..,6.  We did this for all our four noise complaint categories, an error plot can be seen in the notebook below. The plot shows that the error is similar for all the categories expect we get a low error for the banging category, which could be because we have a lot of data points for that category. \n",
    "We are pretty pleased with an error of 0.2 when only using 20% of our dataset, so we think the clustering method gives us a good representation of the distribution of noise complaints. \n",
    "\n",
    "\n",
    "We will split our data 20/80 in model data and test data. We will do clustering with the 20% data and then with all the data to see how far of the center points are."
   ]
  },
  {
   "cell_type": "code",
   "execution_count": 50,
   "metadata": {
    "collapsed": false
   },
   "outputs": [
    {
     "name": "stderr",
     "output_type": "stream",
     "text": [
      "C:\\Users\\s161280\\AppData\\Local\\Continuum\\Anaconda2\\lib\\site-packages\\sklearn\\cross_validation.py:44: DeprecationWarning: This module was deprecated in version 0.18 in favor of the model_selection module into which all the refactored classes and functions are moved. Also note that the interface of the new CV iterators are different from that of this module. This module will be removed in 0.20.\n",
      "  \"This module will be removed in 0.20.\", DeprecationWarning)\n"
     ]
    }
   ],
   "source": [
    "from sklearn.cross_validation import train_test_split"
   ]
  },
  {
   "cell_type": "markdown",
   "metadata": {},
   "source": [
    "Now we begin to make a train data "
   ]
  },
  {
   "cell_type": "code",
   "execution_count": 51,
   "metadata": {
    "collapsed": false
   },
   "outputs": [],
   "source": [
    "x_train, x_test, y_train, y_test = train_test_split(DataSet_cluster_Bang['X'], DataSet_cluster_Bang['Y'], test_size = 0.2, random_state = 100)\n",
    "\n",
    "d_train = {'X': x_train, 'Y': y_train}\n",
    "d_test =  {'X': x_test, 'Y': y_test}\n",
    "\n",
    "df_train = pd.DataFrame(d_train)\n",
    "df_test = pd.DataFrame(d_test)"
   ]
  },
  {
   "cell_type": "markdown",
   "metadata": {},
   "source": [
    "We will do clustering with our training data and test data"
   ]
  },
  {
   "cell_type": "code",
   "execution_count": 52,
   "metadata": {
    "collapsed": false
   },
   "outputs": [
    {
     "data": {
      "text/html": [
       "<div>\n",
       "<table border=\"1\" class=\"dataframe\">\n",
       "  <thead>\n",
       "    <tr style=\"text-align: right;\">\n",
       "      <th></th>\n",
       "      <th>X_KMean2</th>\n",
       "      <th>X_KMean3</th>\n",
       "      <th>X_KMean4</th>\n",
       "      <th>X_KMean5</th>\n",
       "      <th>X_KMean6</th>\n",
       "      <th>Y_KMean2</th>\n",
       "      <th>Y_KMean3</th>\n",
       "      <th>Y_KMean4</th>\n",
       "      <th>Y_KMean5</th>\n",
       "      <th>Y_KMean6</th>\n",
       "      <th>Color_KMean2</th>\n",
       "      <th>Color_KMean3</th>\n",
       "      <th>Color_KMean4</th>\n",
       "      <th>Color_KMean5</th>\n",
       "      <th>Color_KMean6</th>\n",
       "    </tr>\n",
       "  </thead>\n",
       "  <tbody>\n",
       "    <tr>\n",
       "      <th>1</th>\n",
       "      <td>-73.962122</td>\n",
       "      <td>-73.977940</td>\n",
       "      <td>-73.980209</td>\n",
       "      <td>-73.828638</td>\n",
       "      <td>-73.958324</td>\n",
       "      <td>40.659658</td>\n",
       "      <td>40.659443</td>\n",
       "      <td>40.632929</td>\n",
       "      <td>40.712475</td>\n",
       "      <td>40.632657</td>\n",
       "      <td>0</td>\n",
       "      <td>0</td>\n",
       "      <td>3</td>\n",
       "      <td>0</td>\n",
       "      <td>2</td>\n",
       "    </tr>\n",
       "    <tr>\n",
       "      <th>2</th>\n",
       "      <td>-73.899551</td>\n",
       "      <td>-73.914152</td>\n",
       "      <td>-73.904149</td>\n",
       "      <td>-73.892776</td>\n",
       "      <td>-73.886487</td>\n",
       "      <td>40.810604</td>\n",
       "      <td>40.830513</td>\n",
       "      <td>40.844281</td>\n",
       "      <td>40.852294</td>\n",
       "      <td>40.856290</td>\n",
       "      <td>1</td>\n",
       "      <td>2</td>\n",
       "      <td>2</td>\n",
       "      <td>1</td>\n",
       "      <td>1</td>\n",
       "    </tr>\n",
       "    <tr>\n",
       "      <th>3</th>\n",
       "      <td>NaN</td>\n",
       "      <td>-73.847020</td>\n",
       "      <td>-73.838551</td>\n",
       "      <td>-74.016670</td>\n",
       "      <td>-73.832974</td>\n",
       "      <td>NaN</td>\n",
       "      <td>40.709531</td>\n",
       "      <td>40.705821</td>\n",
       "      <td>40.605892</td>\n",
       "      <td>40.711924</td>\n",
       "      <td>1</td>\n",
       "      <td>1</td>\n",
       "      <td>1</td>\n",
       "      <td>3</td>\n",
       "      <td>0</td>\n",
       "    </tr>\n",
       "    <tr>\n",
       "      <th>4</th>\n",
       "      <td>NaN</td>\n",
       "      <td>NaN</td>\n",
       "      <td>-73.957736</td>\n",
       "      <td>-73.952444</td>\n",
       "      <td>-73.966205</td>\n",
       "      <td>NaN</td>\n",
       "      <td>NaN</td>\n",
       "      <td>40.745774</td>\n",
       "      <td>40.675253</td>\n",
       "      <td>40.715530</td>\n",
       "      <td>1</td>\n",
       "      <td>1</td>\n",
       "      <td>0</td>\n",
       "      <td>4</td>\n",
       "      <td>3</td>\n",
       "    </tr>\n",
       "    <tr>\n",
       "      <th>5</th>\n",
       "      <td>NaN</td>\n",
       "      <td>NaN</td>\n",
       "      <td>NaN</td>\n",
       "      <td>-73.947172</td>\n",
       "      <td>-74.101564</td>\n",
       "      <td>NaN</td>\n",
       "      <td>NaN</td>\n",
       "      <td>NaN</td>\n",
       "      <td>40.789504</td>\n",
       "      <td>40.609140</td>\n",
       "      <td>1</td>\n",
       "      <td>1</td>\n",
       "      <td>0</td>\n",
       "      <td>2</td>\n",
       "      <td>4</td>\n",
       "    </tr>\n",
       "  </tbody>\n",
       "</table>\n",
       "</div>"
      ],
      "text/plain": [
       "    X_KMean2   X_KMean3   X_KMean4   X_KMean5   X_KMean6   Y_KMean2  \\\n",
       "1 -73.962122 -73.977940 -73.980209 -73.828638 -73.958324  40.659658   \n",
       "2 -73.899551 -73.914152 -73.904149 -73.892776 -73.886487  40.810604   \n",
       "3        NaN -73.847020 -73.838551 -74.016670 -73.832974        NaN   \n",
       "4        NaN        NaN -73.957736 -73.952444 -73.966205        NaN   \n",
       "5        NaN        NaN        NaN -73.947172 -74.101564        NaN   \n",
       "\n",
       "    Y_KMean3   Y_KMean4   Y_KMean5   Y_KMean6  Color_KMean2  Color_KMean3  \\\n",
       "1  40.659443  40.632929  40.712475  40.632657             0             0   \n",
       "2  40.830513  40.844281  40.852294  40.856290             1             2   \n",
       "3  40.709531  40.705821  40.605892  40.711924             1             1   \n",
       "4        NaN  40.745774  40.675253  40.715530             1             1   \n",
       "5        NaN        NaN  40.789504  40.609140             1             1   \n",
       "\n",
       "   Color_KMean4  Color_KMean5  Color_KMean6  \n",
       "1             3             0             2  \n",
       "2             2             1             1  \n",
       "3             1             3             0  \n",
       "4             0             4             3  \n",
       "5             0             2             4  "
      ]
     },
     "execution_count": 52,
     "metadata": {},
     "output_type": "execute_result"
    }
   ],
   "source": [
    "Clustering_train= KMeanDataSet(df_train)\n",
    "kmeans_train = KMeanVector(df_train)\n",
    "Center_train = CenterLocation(kmeans_train)\n",
    "\n",
    "Clustering_test= KMeanDataSet(df_test)\n",
    "kmeans_test = KMeanVector(df_test)\n",
    "Center_test = CenterLocation(kmeans_test)\n",
    "\n",
    "Center_test.head()"
   ]
  },
  {
   "cell_type": "code",
   "execution_count": 53,
   "metadata": {
    "collapsed": false
   },
   "outputs": [
    {
     "name": "stderr",
     "output_type": "stream",
     "text": [
      "C:\\Users\\s161280\\AppData\\Local\\Continuum\\Anaconda2\\lib\\site-packages\\ipykernel\\__main__.py:2: MatplotlibDeprecationWarning: pyplot.hold is deprecated.\n",
      "    Future behavior will be consistent with the long-time default:\n",
      "    plot commands add elements without first clearing the\n",
      "    Axes and/or Figure.\n",
      "  from ipykernel import kernelapp as app\n",
      "C:\\Users\\s161280\\AppData\\Local\\Continuum\\Anaconda2\\lib\\site-packages\\matplotlib\\__init__.py:917: UserWarning: axes.hold is deprecated. Please remove it from your matplotlibrc and/or style files.\n",
      "  warnings.warn(self.msg_depr_set % key)\n",
      "C:\\Users\\s161280\\AppData\\Local\\Continuum\\Anaconda2\\lib\\site-packages\\matplotlib\\rcsetup.py:152: UserWarning: axes.hold is deprecated, will be removed in 3.0\n",
      "  warnings.warn(\"axes.hold is deprecated, will be removed in 3.0\")\n"
     ]
    },
    {
     "data": {
      "image/png": "[encoded data removed]",
      "text/plain": [
       "<matplotlib.figure.Figure at 0x39e372b0>"
      ]
     },
     "metadata": {},
     "output_type": "display_data"
    }
   ],
   "source": [
    "plt.plot(Center_train['X_KMean2'], Center_train['Y_KMean2'], '*')\n",
    "plt.hold(True)\n",
    "plt.plot(Center_test['X_KMean2'], Center_test['Y_KMean2'], '*')\n",
    "plt.show()\n"
   ]
  },
  {
   "cell_type": "markdown",
   "metadata": {},
   "source": [
    "Now we want to calculate the error between the center points. We make a error function"
   ]
  },
  {
   "cell_type": "code",
   "execution_count": 54,
   "metadata": {
    "collapsed": false
   },
   "outputs": [],
   "source": [
    "def error_cluster(Xtest, Ytest, Xtrain, Ytrain):\n",
    "    error = []\n",
    "    for i in range(0,len(Xtest)):\n",
    "        e_x = abs(Xtest[i]-Xtrain[i])\n",
    "        e_y = abs(Ytest[i]-Ytrain[i])\n",
    "        error.append(e_x)\n",
    "        error.append(e_y)\n",
    "    return np.linalg.norm(error, np.inf)"
   ]
  },
  {
   "cell_type": "code",
   "execution_count": 55,
   "metadata": {
    "collapsed": false
   },
   "outputs": [],
   "source": [
    "def error_set(DataSet):\n",
    "    x_train, x_test, y_train, y_test = train_test_split(DataSet['X'], DataSet['Y'], test_size = 0.2, random_state = 100)\n",
    "\n",
    "    d_train = {'X': x_train, 'Y': y_train}\n",
    "    d_test =  {'X': x_test, 'Y': y_test}\n",
    "\n",
    "    df_train = pd.DataFrame(d_train)\n",
    "    df_test = pd.DataFrame(d_test)\n",
    "\n",
    "\n",
    "    Clustering_train= KMeanDataSet(df_train)\n",
    "    kmeans_train = KMeanVector(df_train)\n",
    "    Center_train = CenterLocation(kmeans_train)\n",
    "\n",
    "    Clustering_test= KMeanDataSet(df_test)\n",
    "    kmeans_test = KMeanVector(df_test)\n",
    "    Center_test = CenterLocation(kmeans_test)\n",
    "\n",
    "    Xtest = Center_test['X_KMean2'].dropna()\n",
    "    Xtrain = Center_train['X_KMean2'].dropna()\n",
    "    Ytest = Center_test['Y_KMean2'].dropna()\n",
    "    Ytrain = Center_train['Y_KMean2'].dropna()\n",
    "    error_KMean2 = error_cluster(Xtest, Ytest, Xtrain, Ytrain)\n",
    "\n",
    "    Xtest = Center_test['X_KMean3'].dropna()\n",
    "    Xtrain = Center_train['X_KMean3'].dropna()\n",
    "    Ytest = Center_test['Y_KMean3'].dropna()\n",
    "    Ytrain = Center_train['Y_KMean3'].dropna()\n",
    "    error_KMean3 = error_cluster(Xtest, Ytest, Xtrain, Ytrain)\n",
    "\n",
    "    Xtest = Center_test['X_KMean4'].dropna()\n",
    "    Xtrain = Center_train['X_KMean4'].dropna()\n",
    "    Ytest = Center_test['Y_KMean4'].dropna()\n",
    "    Ytrain = Center_train['Y_KMean4'].dropna()\n",
    "    error_KMean4 = error_cluster(Xtest, Ytest, Xtrain, Ytrain)\n",
    "\n",
    "    Xtest = Center_test['X_KMean5'].dropna()\n",
    "    Xtrain = Center_train['X_KMean5'].dropna()\n",
    "    Ytest = Center_test['Y_KMean5'].dropna()\n",
    "    Ytrain = Center_train['Y_KMean5'].dropna()\n",
    "    error_KMean5 = error_cluster(Xtest, Ytest, Xtrain, Ytrain)\n",
    "\n",
    "    Xtest = Center_test['X_KMean6'].dropna()\n",
    "    Xtrain = Center_train['X_KMean6'].dropna()\n",
    "    Ytest = Center_test['Y_KMean6'].dropna()\n",
    "    Ytrain = Center_train['Y_KMean6'].dropna()\n",
    "    error_KMean6 = error_cluster(Xtest, Ytest, Xtrain, Ytrain)\n",
    "    \n",
    "    print \"Error K2: \", error_KMean2\n",
    "    print \"Error K3: \", error_KMean3\n",
    "    print \"Error K4: \", error_KMean4\n",
    "    print \"Error K5: \", error_KMean5\n",
    "    print \"Error K6: \", error_KMean6\n",
    "\n",
    "    return [error_KMean2, error_KMean3, error_KMean4, error_KMean5, error_KMean6]    \n",
    "\n",
    "\n"
   ]
  },
  {
   "cell_type": "code",
   "execution_count": 56,
   "metadata": {
    "collapsed": false
   },
   "outputs": [
    {
     "name": "stdout",
     "output_type": "stream",
     "text": [
      "Error K2:  0.15087796513\n",
      "Error K3:  0.170381538331\n",
      "Error K4:  0.210773001702\n",
      "Error K5:  0.221993740291\n",
      "Error K6:  0.277780772839\n"
     ]
    }
   ],
   "source": [
    "Error_Bang = error_set(DataSet_cluster_Bang)"
   ]
  },
  {
   "cell_type": "code",
   "execution_count": 57,
   "metadata": {
    "collapsed": false
   },
   "outputs": [
    {
     "name": "stdout",
     "output_type": "stream",
     "text": [
      "Error K2:  0.151924006635\n",
      "Error K3:  0.137066150262\n",
      "Error K4:  0.156838145318\n",
      "Error K5:  0.236042909652\n",
      "Error K6:  0.326474080164\n"
     ]
    }
   ],
   "source": [
    "Error_Musik = error_set(DataSet_cluster_Music)"
   ]
  },
  {
   "cell_type": "code",
   "execution_count": 58,
   "metadata": {
    "collapsed": false
   },
   "outputs": [
    {
     "name": "stdout",
     "output_type": "stream",
     "text": [
      "Error K2:  0.00291372922356\n",
      "Error K3:  0.00411205955797\n",
      "Error K4:  0.144957656314\n",
      "Error K5:  0.296409768003\n",
      "Error K6:  0.169622504746\n"
     ]
    }
   ],
   "source": [
    "Error_Talk = error_set(DataSet_cluster_Talking)"
   ]
  },
  {
   "cell_type": "code",
   "execution_count": 59,
   "metadata": {
    "collapsed": false
   },
   "outputs": [
    {
     "name": "stdout",
     "output_type": "stream",
     "text": [
      "Error K2:  0.00483358858274\n",
      "Error K3:  0.133939660622\n",
      "Error K4:  0.11596301525\n",
      "Error K5:  0.021527434935\n",
      "Error K6:  0.241370596733\n"
     ]
    }
   ],
   "source": [
    "Error_TV = error_set(DataSet_cluster_TV)"
   ]
  },
  {
   "cell_type": "code",
   "execution_count": 60,
   "metadata": {
    "collapsed": false
   },
   "outputs": [
    {
     "name": "stderr",
     "output_type": "stream",
     "text": [
      "C:\\Users\\s161280\\AppData\\Local\\Continuum\\Anaconda2\\lib\\site-packages\\ipykernel\\__main__.py:6: MatplotlibDeprecationWarning: pyplot.hold is deprecated.\n",
      "    Future behavior will be consistent with the long-time default:\n",
      "    plot commands add elements without first clearing the\n",
      "    Axes and/or Figure.\n",
      "C:\\Users\\s161280\\AppData\\Local\\Continuum\\Anaconda2\\lib\\site-packages\\ipykernel\\__main__.py:8: MatplotlibDeprecationWarning: pyplot.hold is deprecated.\n",
      "    Future behavior will be consistent with the long-time default:\n",
      "    plot commands add elements without first clearing the\n",
      "    Axes and/or Figure.\n",
      "C:\\Users\\s161280\\AppData\\Local\\Continuum\\Anaconda2\\lib\\site-packages\\ipykernel\\__main__.py:10: MatplotlibDeprecationWarning: pyplot.hold is deprecated.\n",
      "    Future behavior will be consistent with the long-time default:\n",
      "    plot commands add elements without first clearing the\n",
      "    Axes and/or Figure.\n"
     ]
    },
    {
     "data": {
      "image/png": "[encoded data removed]",
      "text/plain": [
       "<matplotlib.figure.Figure at 0x707e0f28>"
      ]
     },
     "metadata": {},
     "output_type": "display_data"
    }
   ],
   "source": [
    "xKMean = ['K2', 'K3', 'K4', 'K5', 'K6']\n",
    "\n",
    "x = [i  for i, _ in enumerate(xKMean)]\n",
    "\n",
    "plt.semilogy(x, Error_Bang, label = \"Banging\")   \n",
    "plt.hold(True)\n",
    "plt.semilogy(x, Error_Musik, label = \"Music\")   \n",
    "plt.hold(True)\n",
    "plt.semilogy(x, Error_Talk, label = \"Talking\")   \n",
    "plt.hold(True)\n",
    "plt.semilogy(x, Error_TV, label = \"TV\")   \n",
    " \n",
    "plt.xticks([i  for i, _ in enumerate(xKMean)],xKMean)\n",
    "plt.legend(bbox_to_anchor=(1.05, 1), loc=2, borderaxespad=0.)\n",
    "plt.xlabel(\"Number of cluster\")\n",
    "plt.ylabel(\"Error\")\n",
    "plt.show()"
   ]
  },
  {
   "cell_type": "markdown",
   "metadata": {},
   "source": [
    "# 4. Visualizations\n",
    "## Explain the visualization? and why they are right for the story? \n",
    "We chose to show our result in a map for both the Clustering and the KNN. \n",
    "For the clustering we show a map for each descriptor, four in total. Where the user can play around with different number of centers, varying from 1 to 6. This interactive way was chosen since we want to give the user the change to explore the result and see other maps for comparison. \n",
    "The KNN is shown in two maps, for both balanced and unbalanced data. There, the user can again explore the result by choosing for how many KN classifier they want to look at (3, 15 or 30). There was added an extra hovering feature to the map. This shows the average age, percentage of noise complaints and percentage of residents in each borough. \n",
    "\n",
    "## And why they are right for the story?\n",
    "Since both machine learning tools were based on locations and maps, we consider the two maps the right visualization choice. The story we are telling is to inspect were the city is noisier, which the Clustering part will tell us more about, and to connect the age data to the noise complaints, and the KNN map provides us with that information. \n"
   ]
  },
  {
   "cell_type": "markdown",
   "metadata": {},
   "source": [
    "# 5. Discussion. Think critically about your creation. \n",
    "### What went well?\n",
    "The machine learning implementation went well. The result can give us some ideas to where most of the noise can be located and tell us some things about each borough. \n",
    "From the K-mean Clustering we see that for the K = 2, 3 and 4 the center points lie almost exactly in the same location for all four maps. For the K = 5 we see finally some change. We notice that on Staten Island there was no center until we chose 5 centers, and that was only for half of the maps. By choosing K = 6 all maps get a centroids in Staten Island.\n",
    "\n",
    "By looking at the result we conclude that Staten Island must be the quietest borough. This might not be a surprise since it is the borough with the fewest residents. The plot show in addition that the Banging/Talking and Loud Talking is the most in Manhattan and Brooklyn. To our surprise Loud Music/party is not necessary the most in the Manhattan area. It is pretty evenly distributed. \n",
    "\n",
    "There is also an interesting gap in the data. This is south of Queens were no noise complaints have been reported. We looked at a map of NYC to see if there is anything special there, and to our surprise we noticed that John F Kennedy airport is located there. Since we only have residential noise complaints, all complaints about noise pollution from the airport would not be listed here. This is none of the less probably not the reason for no noise complaints being listed in the area, since people still through parties and get complaints, even though they live nearby an airport. \n",
    "\n",
    "The KNN balanced data shows what we expected and was listed in the part about machine learning tool. There the unbalanced data shows that the largest categories, Loud music/Party (red), influences far more predictions. The balanced data show however which category is the most spread. By looking at K= 30 and only the land area, we seem to have the most prediction from Loud Television (yellow). This indicates that it is the most spread noise complaint. \n",
    "### What is still missing?  What could be improved?\n",
    "The age data could be connected better to the noise complaints. We did not manage to explore the connection there like we would have wanted. \n",
    "\n",
    "We would have like to improve the lag of the webpage. For the K-mean clustering, this is quite problematic. The data is large since the points were many. We did some adjustments by deleting all duplicates that represented the same location and same color. We by doing so we managed to lower the complaints from 205,826 to 100,266, or by 49%. Even though we did this, the page lags considerably. \n"
   ]
  }
 ],
 "metadata": {
  "anaconda-cloud": {},
  "kernelspec": {
   "display_name": "Python 2",
   "language": "python",
   "name": "python2"
  },
  "language_info": {
   "codemirror_mode": {
    "name": "ipython",
    "version": 2
   },
   "file_extension": ".py",
   "mimetype": "text/x-python",
   "name": "python",
   "nbconvert_exporter": "python",
   "pygments_lexer": "ipython2",
   "version": "2.7.13"
  }
 },
 "nbformat": 4,
 "nbformat_minor": 2
}
